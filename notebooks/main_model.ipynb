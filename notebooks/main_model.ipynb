{
 "cells": [
  {
   "cell_type": "markdown",
   "metadata": {},
   "source": [
    "## Read Data"
   ]
  },
  {
   "cell_type": "code",
   "execution_count": 1,
   "metadata": {},
   "outputs": [],
   "source": [
    "import pandas as pd\n",
    "\n",
    "#Set Pandas display\n",
    "#pd.set_option('display.max_rows', 500)\n",
    "pd.set_option('display.max_columns', 100)\n",
    "#pd.set_option('display.width', 1000)\n",
    "\n",
    "df = pd.read_csv(\"../parquet_files/train_data/part-00000-12b9771c-aa42-4525-a430-a8abd80280bf-c000.csv\", sep=';')"
   ]
  },
  {
   "cell_type": "markdown",
   "metadata": {},
   "source": [
    "## Split data into train and test"
   ]
  },
  {
   "cell_type": "code",
   "execution_count": 2,
   "metadata": {},
   "outputs": [
    {
     "name": "stdout",
     "output_type": "stream",
     "text": [
      "Train dataset shape:\n",
      "(50987, 16)\n",
      "Test dataset shape:\n",
      "(21852, 16)\n"
     ]
    }
   ],
   "source": [
    "from sklearn.model_selection import train_test_split\n",
    "\n",
    "X = df.drop('fail', axis=1)\n",
    "\n",
    "y = df.fail\n",
    "\n",
    "X_train, X_test, y_train, y_test = train_test_split(X, y, test_size=0.3, random_state=1407)\n",
    "\n",
    "X_train = X_train.reset_index(drop=True)\n",
    "y_train = y_train.reset_index(drop=True)\n",
    "\n",
    "X_test = X_test.reset_index(drop=True)\n",
    "y_test = y_test.reset_index(drop=True)\n",
    "\n",
    "print(\"Train dataset shape:\")\n",
    "print(X_train.shape)\n",
    "\n",
    "print(\"Test dataset shape:\")\n",
    "print(X_test.shape)"
   ]
  },
  {
   "cell_type": "code",
   "execution_count": 3,
   "metadata": {},
   "outputs": [
    {
     "data": {
      "text/plain": [
       "1    33691\n",
       "0    17296\n",
       "Name: fail, dtype: int64"
      ]
     },
     "execution_count": 3,
     "metadata": {},
     "output_type": "execute_result"
    }
   ],
   "source": [
    "y_train.value_counts()"
   ]
  },
  {
   "cell_type": "markdown",
   "metadata": {},
   "source": [
    "## Check Missing"
   ]
  },
  {
   "cell_type": "code",
   "execution_count": 4,
   "metadata": {},
   "outputs": [
    {
     "data": {
      "text/html": [
       "<div>\n",
       "<style scoped>\n",
       "    .dataframe tbody tr th:only-of-type {\n",
       "        vertical-align: middle;\n",
       "    }\n",
       "\n",
       "    .dataframe tbody tr th {\n",
       "        vertical-align: top;\n",
       "    }\n",
       "\n",
       "    .dataframe thead th {\n",
       "        text-align: right;\n",
       "    }\n",
       "</style>\n",
       "<table border=\"1\" class=\"dataframe\">\n",
       "  <thead>\n",
       "    <tr style=\"text-align: right;\">\n",
       "      <th></th>\n",
       "      <th>Feature</th>\n",
       "      <th>Classes</th>\n",
       "      <th>Datatype</th>\n",
       "      <th>Missing</th>\n",
       "      <th>Missing Percent</th>\n",
       "    </tr>\n",
       "  </thead>\n",
       "  <tbody>\n",
       "    <tr>\n",
       "      <th>4</th>\n",
       "      <td>location</td>\n",
       "      <td>2904</td>\n",
       "      <td>object</td>\n",
       "      <td>4386</td>\n",
       "      <td>0.086022</td>\n",
       "    </tr>\n",
       "    <tr>\n",
       "      <th>10</th>\n",
       "      <td>last_inspections</td>\n",
       "      <td>48465</td>\n",
       "      <td>object</td>\n",
       "      <td>2499</td>\n",
       "      <td>0.049012</td>\n",
       "    </tr>\n",
       "    <tr>\n",
       "      <th>1</th>\n",
       "      <td>resultdttm</td>\n",
       "      <td>50850</td>\n",
       "      <td>object</td>\n",
       "      <td>110</td>\n",
       "      <td>0.002157</td>\n",
       "    </tr>\n",
       "    <tr>\n",
       "      <th>2</th>\n",
       "      <td>issdttm</td>\n",
       "      <td>5371</td>\n",
       "      <td>object</td>\n",
       "      <td>27</td>\n",
       "      <td>0.000530</td>\n",
       "    </tr>\n",
       "    <tr>\n",
       "      <th>8</th>\n",
       "      <td>zip</td>\n",
       "      <td>35</td>\n",
       "      <td>float64</td>\n",
       "      <td>22</td>\n",
       "      <td>0.000431</td>\n",
       "    </tr>\n",
       "    <tr>\n",
       "      <th>3</th>\n",
       "      <td>state</td>\n",
       "      <td>1</td>\n",
       "      <td>object</td>\n",
       "      <td>18</td>\n",
       "      <td>0.000353</td>\n",
       "    </tr>\n",
       "    <tr>\n",
       "      <th>7</th>\n",
       "      <td>city</td>\n",
       "      <td>34</td>\n",
       "      <td>object</td>\n",
       "      <td>3</td>\n",
       "      <td>0.000059</td>\n",
       "    </tr>\n",
       "    <tr>\n",
       "      <th>0</th>\n",
       "      <td>property_id</td>\n",
       "      <td>3358</td>\n",
       "      <td>int64</td>\n",
       "      <td>0</td>\n",
       "      <td>0.000000</td>\n",
       "    </tr>\n",
       "    <tr>\n",
       "      <th>5</th>\n",
       "      <td>licensecat</td>\n",
       "      <td>4</td>\n",
       "      <td>object</td>\n",
       "      <td>0</td>\n",
       "      <td>0.000000</td>\n",
       "    </tr>\n",
       "    <tr>\n",
       "      <th>6</th>\n",
       "      <td>descript</td>\n",
       "      <td>4</td>\n",
       "      <td>object</td>\n",
       "      <td>0</td>\n",
       "      <td>0.000000</td>\n",
       "    </tr>\n",
       "    <tr>\n",
       "      <th>9</th>\n",
       "      <td>inspections_so_far</td>\n",
       "      <td>1100</td>\n",
       "      <td>int64</td>\n",
       "      <td>0</td>\n",
       "      <td>0.000000</td>\n",
       "    </tr>\n",
       "    <tr>\n",
       "      <th>11</th>\n",
       "      <td>days_since_last_inspect</td>\n",
       "      <td>1211</td>\n",
       "      <td>int64</td>\n",
       "      <td>0</td>\n",
       "      <td>0.000000</td>\n",
       "    </tr>\n",
       "    <tr>\n",
       "      <th>12</th>\n",
       "      <td>viol_fail</td>\n",
       "      <td>50</td>\n",
       "      <td>int64</td>\n",
       "      <td>0</td>\n",
       "      <td>0.000000</td>\n",
       "    </tr>\n",
       "    <tr>\n",
       "      <th>13</th>\n",
       "      <td>viol_pass</td>\n",
       "      <td>42</td>\n",
       "      <td>int64</td>\n",
       "      <td>0</td>\n",
       "      <td>0.000000</td>\n",
       "    </tr>\n",
       "    <tr>\n",
       "      <th>14</th>\n",
       "      <td>last_viol_fail</td>\n",
       "      <td>50</td>\n",
       "      <td>int64</td>\n",
       "      <td>0</td>\n",
       "      <td>0.000000</td>\n",
       "    </tr>\n",
       "    <tr>\n",
       "      <th>15</th>\n",
       "      <td>last_viol_pass</td>\n",
       "      <td>44</td>\n",
       "      <td>int64</td>\n",
       "      <td>0</td>\n",
       "      <td>0.000000</td>\n",
       "    </tr>\n",
       "  </tbody>\n",
       "</table>\n",
       "</div>"
      ],
      "text/plain": [
       "                    Feature  Classes Datatype  Missing  Missing Percent\n",
       "4                  location     2904   object     4386         0.086022\n",
       "10         last_inspections    48465   object     2499         0.049012\n",
       "1                resultdttm    50850   object      110         0.002157\n",
       "2                   issdttm     5371   object       27         0.000530\n",
       "8                       zip       35  float64       22         0.000431\n",
       "3                     state        1   object       18         0.000353\n",
       "7                      city       34   object        3         0.000059\n",
       "0               property_id     3358    int64        0         0.000000\n",
       "5                licensecat        4   object        0         0.000000\n",
       "6                  descript        4   object        0         0.000000\n",
       "9        inspections_so_far     1100    int64        0         0.000000\n",
       "11  days_since_last_inspect     1211    int64        0         0.000000\n",
       "12                viol_fail       50    int64        0         0.000000\n",
       "13                viol_pass       42    int64        0         0.000000\n",
       "14           last_viol_fail       50    int64        0         0.000000\n",
       "15           last_viol_pass       44    int64        0         0.000000"
      ]
     },
     "execution_count": 4,
     "metadata": {},
     "output_type": "execute_result"
    }
   ],
   "source": [
    "def describe_more( df ):\n",
    "    feature = [] ; classes = [] ; datatype = [] ; missing = [] ; missing_perc = []\n",
    "    nrow = len(df)\n",
    "    for x in df:\n",
    "        feature.append(x)\n",
    "        classes.append(len( pd.value_counts(df[x])))\n",
    "        datatype.append(df[x].dtypes)\n",
    "        missing.append(sum(df[x].isnull()))\n",
    "        missing_perc.append(sum(df[x].isnull()) / nrow)\n",
    "    #print(var,l,t)\n",
    "    levels = pd.DataFrame( { 'Feature' : feature , 'Classes' : classes , 'Datatype' : datatype, 'Missing' : missing, 'Missing Percent' : missing_perc } )\n",
    "    levels.sort_values( by = 'Missing' , inplace = True , ascending= False)\n",
    "    return levels\n",
    "\n",
    "describe_more(X_train)"
   ]
  },
  {
   "cell_type": "markdown",
   "metadata": {},
   "source": [
    "# Select Features"
   ]
  },
  {
   "cell_type": "code",
   "execution_count": 5,
   "metadata": {},
   "outputs": [],
   "source": [
    "remove_cols = ['location', 'last_inspections', 'resultdttm', 'issdttm', 'property_id', 'state']\n",
    "\n",
    "X_train = X_train.drop(remove_cols, axis=1)\n",
    "X_test = X_test.drop(remove_cols, axis=1)"
   ]
  },
  {
   "cell_type": "code",
   "execution_count": 6,
   "metadata": {},
   "outputs": [
    {
     "data": {
      "text/html": [
       "<div>\n",
       "<style scoped>\n",
       "    .dataframe tbody tr th:only-of-type {\n",
       "        vertical-align: middle;\n",
       "    }\n",
       "\n",
       "    .dataframe tbody tr th {\n",
       "        vertical-align: top;\n",
       "    }\n",
       "\n",
       "    .dataframe thead th {\n",
       "        text-align: right;\n",
       "    }\n",
       "</style>\n",
       "<table border=\"1\" class=\"dataframe\">\n",
       "  <thead>\n",
       "    <tr style=\"text-align: right;\">\n",
       "      <th></th>\n",
       "      <th>Feature</th>\n",
       "      <th>Classes</th>\n",
       "      <th>Datatype</th>\n",
       "      <th>Missing</th>\n",
       "      <th>Missing Percent</th>\n",
       "    </tr>\n",
       "  </thead>\n",
       "  <tbody>\n",
       "    <tr>\n",
       "      <th>3</th>\n",
       "      <td>zip</td>\n",
       "      <td>35</td>\n",
       "      <td>float64</td>\n",
       "      <td>22</td>\n",
       "      <td>0.000431</td>\n",
       "    </tr>\n",
       "    <tr>\n",
       "      <th>2</th>\n",
       "      <td>city</td>\n",
       "      <td>34</td>\n",
       "      <td>object</td>\n",
       "      <td>3</td>\n",
       "      <td>0.000059</td>\n",
       "    </tr>\n",
       "    <tr>\n",
       "      <th>0</th>\n",
       "      <td>licensecat</td>\n",
       "      <td>4</td>\n",
       "      <td>object</td>\n",
       "      <td>0</td>\n",
       "      <td>0.000000</td>\n",
       "    </tr>\n",
       "    <tr>\n",
       "      <th>1</th>\n",
       "      <td>descript</td>\n",
       "      <td>4</td>\n",
       "      <td>object</td>\n",
       "      <td>0</td>\n",
       "      <td>0.000000</td>\n",
       "    </tr>\n",
       "    <tr>\n",
       "      <th>4</th>\n",
       "      <td>inspections_so_far</td>\n",
       "      <td>1100</td>\n",
       "      <td>int64</td>\n",
       "      <td>0</td>\n",
       "      <td>0.000000</td>\n",
       "    </tr>\n",
       "    <tr>\n",
       "      <th>5</th>\n",
       "      <td>days_since_last_inspect</td>\n",
       "      <td>1211</td>\n",
       "      <td>int64</td>\n",
       "      <td>0</td>\n",
       "      <td>0.000000</td>\n",
       "    </tr>\n",
       "    <tr>\n",
       "      <th>6</th>\n",
       "      <td>viol_fail</td>\n",
       "      <td>50</td>\n",
       "      <td>int64</td>\n",
       "      <td>0</td>\n",
       "      <td>0.000000</td>\n",
       "    </tr>\n",
       "    <tr>\n",
       "      <th>7</th>\n",
       "      <td>viol_pass</td>\n",
       "      <td>42</td>\n",
       "      <td>int64</td>\n",
       "      <td>0</td>\n",
       "      <td>0.000000</td>\n",
       "    </tr>\n",
       "    <tr>\n",
       "      <th>8</th>\n",
       "      <td>last_viol_fail</td>\n",
       "      <td>50</td>\n",
       "      <td>int64</td>\n",
       "      <td>0</td>\n",
       "      <td>0.000000</td>\n",
       "    </tr>\n",
       "    <tr>\n",
       "      <th>9</th>\n",
       "      <td>last_viol_pass</td>\n",
       "      <td>44</td>\n",
       "      <td>int64</td>\n",
       "      <td>0</td>\n",
       "      <td>0.000000</td>\n",
       "    </tr>\n",
       "  </tbody>\n",
       "</table>\n",
       "</div>"
      ],
      "text/plain": [
       "                   Feature  Classes Datatype  Missing  Missing Percent\n",
       "3                      zip       35  float64       22         0.000431\n",
       "2                     city       34   object        3         0.000059\n",
       "0               licensecat        4   object        0         0.000000\n",
       "1                 descript        4   object        0         0.000000\n",
       "4       inspections_so_far     1100    int64        0         0.000000\n",
       "5  days_since_last_inspect     1211    int64        0         0.000000\n",
       "6                viol_fail       50    int64        0         0.000000\n",
       "7                viol_pass       42    int64        0         0.000000\n",
       "8           last_viol_fail       50    int64        0         0.000000\n",
       "9           last_viol_pass       44    int64        0         0.000000"
      ]
     },
     "execution_count": 6,
     "metadata": {},
     "output_type": "execute_result"
    }
   ],
   "source": [
    "describe_more(X_train)"
   ]
  },
  {
   "cell_type": "markdown",
   "metadata": {},
   "source": [
    "# One Hot Encode"
   ]
  },
  {
   "cell_type": "code",
   "execution_count": 7,
   "metadata": {},
   "outputs": [],
   "source": [
    "from category_encoders import OneHotEncoder\n",
    "\n",
    "onehot = OneHotEncoder(cols=['licensecat', 'descript', 'city', 'zip'], drop_invariant=True)"
   ]
  },
  {
   "cell_type": "markdown",
   "metadata": {},
   "source": [
    "# Random Forest"
   ]
  },
  {
   "cell_type": "code",
   "execution_count": 8,
   "metadata": {},
   "outputs": [],
   "source": [
    "#from sklearn import ensemble\n",
    "\n",
    "#params = {'max_depth': 9, 'max_features': 5, 'n_estimators': 500, 'random_state': 30}\n",
    "\n",
    "#algorithm = ensemble.RandomForestClassifier(**params)"
   ]
  },
  {
   "cell_type": "markdown",
   "metadata": {},
   "source": [
    "# XGB Classifier"
   ]
  },
  {
   "cell_type": "code",
   "execution_count": 7,
   "metadata": {},
   "outputs": [],
   "source": [
    "from xgboost import XGBClassifier\n",
    "\n",
    "#params = {'learning_rate': 0.01, 'max_depth ': 5, 'n_estimators': 900, 'seed': 7}\n",
    "params = {'seed': 7}\n",
    "\n",
    "#algorithm = XGBClassifier(**params)\n",
    "algorithm = XGBClassifier()"
   ]
  },
  {
   "cell_type": "markdown",
   "metadata": {},
   "source": [
    "# Pipeline"
   ]
  },
  {
   "cell_type": "code",
   "execution_count": 8,
   "metadata": {},
   "outputs": [
    {
     "data": {
      "text/plain": [
       "Pipeline(memory=None,\n",
       "     steps=[('OneHotEncoder', OneHotEncoder(cols=['licensecat', 'descript', 'city', 'zip'],\n",
       "       drop_invariant=True, handle_unknown='impute', impute_missing=True,\n",
       "       return_df=True, use_cat_names=False, verbose=0)), ('Algorithm', XGBClassifier(base_score=0.5, booster='gbtree', colsample_bylevel=1,...\n",
       "       reg_alpha=0, reg_lambda=1, scale_pos_weight=1, seed=None,\n",
       "       silent=True, subsample=1))])"
      ]
     },
     "execution_count": 8,
     "metadata": {},
     "output_type": "execute_result"
    }
   ],
   "source": [
    "from sklearn.pipeline import Pipeline\n",
    "\n",
    "steps = [('OneHotEncoder', onehot), ('Algorithm', algorithm)]\n",
    "\n",
    "search = Pipeline(steps)\n",
    "\n",
    "search.fit(X_train, y_train)"
   ]
  },
  {
   "cell_type": "markdown",
   "metadata": {},
   "source": [
    "# Grid Search"
   ]
  },
  {
   "cell_type": "markdown",
   "metadata": {
    "scrolled": true
   },
   "source": [
    "from sklearn.model_selection import GridSearchCV\n",
    "\n",
    "tuned_parameters = {}\n",
    "tuned_parameters['XGBClassifier__seed'] = [7]\n",
    "tuned_parameters['XGBClassifier__learning_rate'] = [0.1, 0.3]\n",
    "tuned_parameters['XGBClassifier__max_depth'] = [3, 6]\n",
    "tuned_parameters['XGBClassifier__nthread'] = [8]\n",
    "\n",
    "search = GridSearchCV(pipe, tuned_parameters, cv = 5, scoring='acc', n_jobs = -1, verbose = 10)\n",
    "\n",
    "search.fit(X_train, y_train)"
   ]
  },
  {
   "cell_type": "markdown",
   "metadata": {},
   "source": [
    "# Results"
   ]
  },
  {
   "cell_type": "markdown",
   "metadata": {},
   "source": [
    "print(\"Best parameter (CV score=%0.3f):\" % search.best_score_)\n",
    "print(search.best_params_)"
   ]
  },
  {
   "cell_type": "code",
   "execution_count": 9,
   "metadata": {
    "scrolled": true
   },
   "outputs": [
    {
     "name": "stdout",
     "output_type": "stream",
     "text": [
      "CV score=1.0000\n"
     ]
    }
   ],
   "source": [
    "print(\"CV score=%0.4f\" % search.score(X_test, y_test))"
   ]
  },
  {
   "cell_type": "code",
   "execution_count": 10,
   "metadata": {},
   "outputs": [],
   "source": [
    "predict = search.predict(X_test)"
   ]
  },
  {
   "cell_type": "code",
   "execution_count": 11,
   "metadata": {},
   "outputs": [
    {
     "data": {
      "text/plain": [
       "Text(0,0.5,'Previsto')"
      ]
     },
     "execution_count": 11,
     "metadata": {},
     "output_type": "execute_result"
    },
    {
     "data": {
      "image/png": "[encoded data removed]",
      "text/plain": [
       "<Figure size 432x288 with 1 Axes>"
      ]
     },
     "metadata": {
      "needs_background": "light"
     },
     "output_type": "display_data"
    }
   ],
   "source": [
    "import matplotlib.pyplot as plt\n",
    "%matplotlib inline\n",
    "\n",
    "plt.scatter(y_test, predict)\n",
    "plt.rcParams[\"figure.figsize\"] = [28, 18]\n",
    "plt.xlabel(\"Real\")\n",
    "plt.ylabel(\"Previsto\")"
   ]
  }
 ],
 "metadata": {
  "kernelspec": {
   "display_name": "Python 3",
   "language": "python",
   "name": "python3"
  },
  "language_info": {
   "codemirror_mode": {
    "name": "ipython",
    "version": 3
   },
   "file_extension": ".py",
   "mimetype": "text/x-python",
   "name": "python",
   "nbconvert_exporter": "python",
   "pygments_lexer": "ipython3",
   "version": "3.6.7"
  }
 },
 "nbformat": 4,
 "nbformat_minor": 2
}
