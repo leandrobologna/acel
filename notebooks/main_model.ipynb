{
 "cells": [
  {
   "cell_type": "markdown",
   "metadata": {},
   "source": [
    "## Read Data"
   ]
  },
  {
   "cell_type": "code",
   "execution_count": 1,
   "metadata": {},
   "outputs": [],
   "source": [
    "import pandas as pd\n",
    "\n",
    "#Set Pandas display\n",
    "#pd.set_option('display.max_rows', 500)\n",
    "pd.set_option('display.max_columns', 100)\n",
    "#pd.set_option('display.width', 1000)\n",
    "\n",
    "df = pd.read_csv(\"../parquet_files/train_data/part-00000-12b9771c-aa42-4525-a430-a8abd80280bf-c000.csv\", sep=';')"
   ]
  },
  {
   "cell_type": "markdown",
   "metadata": {},
   "source": [
    "## Split data into train and test"
   ]
  },
  {
   "cell_type": "code",
   "execution_count": 2,
   "metadata": {},
   "outputs": [
    {
     "name": "stdout",
     "output_type": "stream",
     "text": [
      "Train dataset shape:\n",
      "(50987, 16)\n",
<<<<<<< HEAD
      "Validation dataset shape:\n",
      "(10926, 16)\n",
      "Test dataset shape:\n",
      "(10926, 16)\n"
=======
      "Test dataset shape:\n",
      "(21852, 16)\n"
>>>>>>> 7edbd2c02156c63690538dc7a3bb9902460f7d7e
     ]
    }
   ],
   "source": [
    "from sklearn.model_selection import train_test_split\n",
    "\n",
    "X = df.drop('fail', axis=1)\n",
    "\n",
    "y = df.fail\n",
    "\n",
<<<<<<< HEAD
    "X_train, X_valid, y_train, y_valid = train_test_split(X, y, test_size=0.3, random_state=1407)\n",
    "\n",
    "X_valid, X_test, y_valid, y_test = train_test_split(X_valid, y_valid, test_size=0.5, random_state=1407)\n",
=======
    "X_train, X_test, y_train, y_test = train_test_split(X, y, test_size=0.3, random_state=1407)\n",
>>>>>>> 7edbd2c02156c63690538dc7a3bb9902460f7d7e
    "\n",
    "X_train = X_train.reset_index(drop=True)\n",
    "y_train = y_train.reset_index(drop=True)\n",
    "\n",
    "X_test = X_test.reset_index(drop=True)\n",
    "y_test = y_test.reset_index(drop=True)\n",
    "\n",
    "print(\"Train dataset shape:\")\n",
    "print(X_train.shape)\n",
    "\n",
    "print(\"Test dataset shape:\")\n",
    "print(X_test.shape)"
   ]
  },
  {
   "cell_type": "code",
   "execution_count": 3,
   "metadata": {},
   "outputs": [
    {
     "data": {
      "text/plain": [
       "1    33691\n",
       "0    17296\n",
       "Name: fail, dtype: int64"
      ]
     },
     "execution_count": 3,
     "metadata": {},
     "output_type": "execute_result"
    }
   ],
   "source": [
    "y_train.value_counts()"
   ]
  },
  {
   "cell_type": "markdown",
   "metadata": {},
   "source": [
    "## Check Missing"
   ]
  },
  {
   "cell_type": "code",
   "execution_count": 4,
   "metadata": {},
   "outputs": [
    {
     "data": {
      "text/html": [
       "<div>\n",
       "<style scoped>\n",
       "    .dataframe tbody tr th:only-of-type {\n",
       "        vertical-align: middle;\n",
       "    }\n",
       "\n",
       "    .dataframe tbody tr th {\n",
       "        vertical-align: top;\n",
       "    }\n",
       "\n",
       "    .dataframe thead th {\n",
       "        text-align: right;\n",
       "    }\n",
       "</style>\n",
       "<table border=\"1\" class=\"dataframe\">\n",
       "  <thead>\n",
       "    <tr style=\"text-align: right;\">\n",
       "      <th></th>\n",
       "      <th>Feature</th>\n",
       "      <th>Classes</th>\n",
       "      <th>Datatype</th>\n",
       "      <th>Missing</th>\n",
       "      <th>Missing Percent</th>\n",
       "    </tr>\n",
       "  </thead>\n",
       "  <tbody>\n",
       "    <tr>\n",
       "      <th>4</th>\n",
       "      <td>location</td>\n",
       "      <td>2904</td>\n",
       "      <td>object</td>\n",
       "      <td>4386</td>\n",
       "      <td>0.086022</td>\n",
       "    </tr>\n",
       "    <tr>\n",
       "      <th>10</th>\n",
       "      <td>last_inspections</td>\n",
       "      <td>48465</td>\n",
       "      <td>object</td>\n",
       "      <td>2499</td>\n",
       "      <td>0.049012</td>\n",
       "    </tr>\n",
       "    <tr>\n",
       "      <th>1</th>\n",
       "      <td>resultdttm</td>\n",
       "      <td>50850</td>\n",
       "      <td>object</td>\n",
       "      <td>110</td>\n",
       "      <td>0.002157</td>\n",
       "    </tr>\n",
       "    <tr>\n",
       "      <th>2</th>\n",
       "      <td>issdttm</td>\n",
       "      <td>5371</td>\n",
       "      <td>object</td>\n",
       "      <td>27</td>\n",
       "      <td>0.000530</td>\n",
       "    </tr>\n",
       "    <tr>\n",
       "      <th>8</th>\n",
       "      <td>zip</td>\n",
       "      <td>35</td>\n",
       "      <td>float64</td>\n",
       "      <td>22</td>\n",
       "      <td>0.000431</td>\n",
       "    </tr>\n",
       "    <tr>\n",
       "      <th>3</th>\n",
       "      <td>state</td>\n",
       "      <td>1</td>\n",
       "      <td>object</td>\n",
       "      <td>18</td>\n",
       "      <td>0.000353</td>\n",
       "    </tr>\n",
       "    <tr>\n",
       "      <th>7</th>\n",
       "      <td>city</td>\n",
       "      <td>34</td>\n",
       "      <td>object</td>\n",
       "      <td>3</td>\n",
       "      <td>0.000059</td>\n",
       "    </tr>\n",
       "    <tr>\n",
       "      <th>0</th>\n",
       "      <td>property_id</td>\n",
       "      <td>3358</td>\n",
       "      <td>int64</td>\n",
       "      <td>0</td>\n",
       "      <td>0.000000</td>\n",
       "    </tr>\n",
       "    <tr>\n",
       "      <th>5</th>\n",
       "      <td>licensecat</td>\n",
       "      <td>4</td>\n",
       "      <td>object</td>\n",
       "      <td>0</td>\n",
       "      <td>0.000000</td>\n",
       "    </tr>\n",
       "    <tr>\n",
       "      <th>6</th>\n",
       "      <td>descript</td>\n",
       "      <td>4</td>\n",
       "      <td>object</td>\n",
       "      <td>0</td>\n",
       "      <td>0.000000</td>\n",
       "    </tr>\n",
       "    <tr>\n",
       "      <th>9</th>\n",
       "      <td>inspections_so_far</td>\n",
       "      <td>1100</td>\n",
       "      <td>int64</td>\n",
       "      <td>0</td>\n",
       "      <td>0.000000</td>\n",
       "    </tr>\n",
       "    <tr>\n",
       "      <th>11</th>\n",
       "      <td>days_since_last_inspect</td>\n",
       "      <td>1211</td>\n",
       "      <td>int64</td>\n",
       "      <td>0</td>\n",
       "      <td>0.000000</td>\n",
       "    </tr>\n",
       "    <tr>\n",
       "      <th>12</th>\n",
       "      <td>viol_fail</td>\n",
       "      <td>50</td>\n",
       "      <td>int64</td>\n",
       "      <td>0</td>\n",
       "      <td>0.000000</td>\n",
       "    </tr>\n",
       "    <tr>\n",
       "      <th>13</th>\n",
       "      <td>viol_pass</td>\n",
       "      <td>42</td>\n",
       "      <td>int64</td>\n",
       "      <td>0</td>\n",
       "      <td>0.000000</td>\n",
       "    </tr>\n",
       "    <tr>\n",
       "      <th>14</th>\n",
       "      <td>last_viol_fail</td>\n",
       "      <td>50</td>\n",
       "      <td>int64</td>\n",
       "      <td>0</td>\n",
       "      <td>0.000000</td>\n",
       "    </tr>\n",
       "    <tr>\n",
       "      <th>15</th>\n",
       "      <td>last_viol_pass</td>\n",
       "      <td>44</td>\n",
       "      <td>int64</td>\n",
       "      <td>0</td>\n",
       "      <td>0.000000</td>\n",
       "    </tr>\n",
       "  </tbody>\n",
       "</table>\n",
       "</div>"
      ],
      "text/plain": [
       "                    Feature  Classes Datatype  Missing  Missing Percent\n",
       "4                  location     2904   object     4386         0.086022\n",
       "10         last_inspections    48465   object     2499         0.049012\n",
       "1                resultdttm    50850   object      110         0.002157\n",
       "2                   issdttm     5371   object       27         0.000530\n",
       "8                       zip       35  float64       22         0.000431\n",
       "3                     state        1   object       18         0.000353\n",
       "7                      city       34   object        3         0.000059\n",
       "0               property_id     3358    int64        0         0.000000\n",
       "5                licensecat        4   object        0         0.000000\n",
       "6                  descript        4   object        0         0.000000\n",
       "9        inspections_so_far     1100    int64        0         0.000000\n",
       "11  days_since_last_inspect     1211    int64        0         0.000000\n",
       "12                viol_fail       50    int64        0         0.000000\n",
       "13                viol_pass       42    int64        0         0.000000\n",
       "14           last_viol_fail       50    int64        0         0.000000\n",
       "15           last_viol_pass       44    int64        0         0.000000"
      ]
     },
     "execution_count": 4,
     "metadata": {},
     "output_type": "execute_result"
    }
   ],
   "source": [
    "def describe_more( df ):\n",
    "    feature = [] ; classes = [] ; datatype = [] ; missing = [] ; missing_perc = []\n",
    "    nrow = len(df)\n",
    "    for x in df:\n",
    "        feature.append(x)\n",
    "        classes.append(len( pd.value_counts(df[x])))\n",
    "        datatype.append(df[x].dtypes)\n",
    "        missing.append(sum(df[x].isnull()))\n",
    "        missing_perc.append(sum(df[x].isnull()) / nrow)\n",
    "    #print(var,l,t)\n",
    "    levels = pd.DataFrame( { 'Feature' : feature , 'Classes' : classes , 'Datatype' : datatype, 'Missing' : missing, 'Missing Percent' : missing_perc } )\n",
    "    levels.sort_values( by = 'Missing' , inplace = True , ascending= False)\n",
    "    return levels\n",
    "\n",
    "describe_more(X_train)"
   ]
  },
  {
   "cell_type": "markdown",
   "metadata": {},
   "source": [
    "# Select Features"
   ]
  },
  {
   "cell_type": "code",
   "execution_count": 5,
   "metadata": {},
   "outputs": [],
   "source": [
    "remove_cols = ['location', 'last_inspections', 'resultdttm', 'issdttm', 'property_id', 'state', 'viol_fail', 'viol_pass']\n",
    "\n",
    "X_train = X_train.drop(remove_cols, axis=1)\n",
    "X_test = X_test.drop(remove_cols, axis=1)"
   ]
  },
  {
   "cell_type": "code",
   "execution_count": 6,
   "metadata": {},
   "outputs": [
    {
     "data": {
      "text/html": [
       "<div>\n",
       "<style scoped>\n",
       "    .dataframe tbody tr th:only-of-type {\n",
       "        vertical-align: middle;\n",
       "    }\n",
       "\n",
       "    .dataframe tbody tr th {\n",
       "        vertical-align: top;\n",
       "    }\n",
       "\n",
       "    .dataframe thead th {\n",
       "        text-align: right;\n",
       "    }\n",
       "</style>\n",
       "<table border=\"1\" class=\"dataframe\">\n",
       "  <thead>\n",
       "    <tr style=\"text-align: right;\">\n",
       "      <th></th>\n",
       "      <th>Feature</th>\n",
       "      <th>Classes</th>\n",
       "      <th>Datatype</th>\n",
       "      <th>Missing</th>\n",
       "      <th>Missing Percent</th>\n",
       "    </tr>\n",
       "  </thead>\n",
       "  <tbody>\n",
       "    <tr>\n",
       "      <th>3</th>\n",
       "      <td>zip</td>\n",
       "      <td>35</td>\n",
       "      <td>float64</td>\n",
       "      <td>22</td>\n",
       "      <td>0.000431</td>\n",
       "    </tr>\n",
       "    <tr>\n",
       "      <th>2</th>\n",
       "      <td>city</td>\n",
       "      <td>34</td>\n",
       "      <td>object</td>\n",
       "      <td>3</td>\n",
       "      <td>0.000059</td>\n",
       "    </tr>\n",
       "    <tr>\n",
       "      <th>0</th>\n",
       "      <td>licensecat</td>\n",
       "      <td>4</td>\n",
       "      <td>object</td>\n",
       "      <td>0</td>\n",
       "      <td>0.000000</td>\n",
       "    </tr>\n",
       "    <tr>\n",
       "      <th>1</th>\n",
       "      <td>descript</td>\n",
       "      <td>4</td>\n",
       "      <td>object</td>\n",
       "      <td>0</td>\n",
       "      <td>0.000000</td>\n",
       "    </tr>\n",
       "    <tr>\n",
       "      <th>4</th>\n",
       "      <td>inspections_so_far</td>\n",
       "      <td>1100</td>\n",
       "      <td>int64</td>\n",
       "      <td>0</td>\n",
       "      <td>0.000000</td>\n",
       "    </tr>\n",
       "    <tr>\n",
       "      <th>5</th>\n",
       "      <td>days_since_last_inspect</td>\n",
       "      <td>1211</td>\n",
       "      <td>int64</td>\n",
       "      <td>0</td>\n",
       "      <td>0.000000</td>\n",
       "    </tr>\n",
       "    <tr>\n",
       "      <th>6</th>\n",
<<<<<<< HEAD
       "      <td>viol_fail</td>\n",
       "      <td>50</td>\n",
       "      <td>int64</td>\n",
       "      <td>0</td>\n",
       "      <td>0.000000</td>\n",
       "    </tr>\n",
       "    <tr>\n",
       "      <th>7</th>\n",
       "      <td>viol_pass</td>\n",
       "      <td>42</td>\n",
       "      <td>int64</td>\n",
       "      <td>0</td>\n",
       "      <td>0.000000</td>\n",
       "    </tr>\n",
       "    <tr>\n",
       "      <th>8</th>\n",
=======
>>>>>>> 7edbd2c02156c63690538dc7a3bb9902460f7d7e
       "      <td>last_viol_fail</td>\n",
       "      <td>50</td>\n",
       "      <td>int64</td>\n",
       "      <td>0</td>\n",
       "      <td>0.000000</td>\n",
       "    </tr>\n",
       "    <tr>\n",
       "      <th>7</th>\n",
       "      <td>last_viol_pass</td>\n",
       "      <td>44</td>\n",
       "      <td>int64</td>\n",
       "      <td>0</td>\n",
       "      <td>0.000000</td>\n",
       "    </tr>\n",
       "  </tbody>\n",
       "</table>\n",
       "</div>"
      ],
      "text/plain": [
       "                   Feature  Classes Datatype  Missing  Missing Percent\n",
       "3                      zip       35  float64       22         0.000431\n",
       "2                     city       34   object        3         0.000059\n",
       "0               licensecat        4   object        0         0.000000\n",
       "1                 descript        4   object        0         0.000000\n",
       "4       inspections_so_far     1100    int64        0         0.000000\n",
       "5  days_since_last_inspect     1211    int64        0         0.000000\n",
<<<<<<< HEAD
       "6                viol_fail       50    int64        0         0.000000\n",
       "7                viol_pass       42    int64        0         0.000000\n",
       "8           last_viol_fail       50    int64        0         0.000000\n",
       "9           last_viol_pass       44    int64        0         0.000000"
=======
       "6           last_viol_fail       50    int64        0         0.000000\n",
       "7           last_viol_pass       44    int64        0         0.000000"
>>>>>>> 7edbd2c02156c63690538dc7a3bb9902460f7d7e
      ]
     },
     "execution_count": 6,
     "metadata": {},
     "output_type": "execute_result"
    }
   ],
   "source": [
    "describe_more(X_train)"
   ]
  },
  {
   "cell_type": "markdown",
   "metadata": {},
   "source": [
    "# One Hot Encode"
   ]
  },
  {
   "cell_type": "code",
   "execution_count": 7,
   "metadata": {},
   "outputs": [],
   "source": [
    "from category_encoders import OneHotEncoder\n",
    "\n",
    "onehot = OneHotEncoder(cols=['licensecat', 'descript', 'city', 'zip'], drop_invariant=True)\n",
    "\n",
    "X_onehot = onehot.fit_transform(X_train)\n",
    "X_onehot_cols = X_onehot.columns"
   ]
  },
  {
   "cell_type": "markdown",
   "metadata": {},
   "source": [
    "# Random Forest"
   ]
  },
  {
   "cell_type": "code",
   "execution_count": 8,
   "metadata": {},
   "outputs": [],
   "source": [
    "#from sklearn import ensemble\n",
    "\n",
    "#params = {'max_depth': 9, 'max_features': 5, 'n_estimators': 500, 'random_state': 30}\n",
    "\n",
    "#algorithm = ensemble.RandomForestClassifier(**params)"
   ]
  },
  {
   "cell_type": "markdown",
   "metadata": {},
   "source": [
    "# XGB Classifier"
   ]
  },
  {
   "cell_type": "code",
   "execution_count": 9,
   "metadata": {},
   "outputs": [],
   "source": [
    "from xgboost import XGBClassifier\n",
    "\n",
    "#params = {'learning_rate': 0.01, 'max_depth ': 5, 'n_estimators': 900, 'seed': 7}\n",
    "params = {'seed': 7}\n",
    "\n",
    "#algorithm = XGBClassifier(**params)\n",
    "algorithm = XGBClassifier()"
   ]
  },
  {
   "cell_type": "markdown",
   "metadata": {},
   "source": [
    "# Pipeline"
   ]
  },
  {
   "cell_type": "code",
   "execution_count": 10,
   "metadata": {},
   "outputs": [
    {
     "data": {
      "text/plain": [
       "Pipeline(memory=None,\n",
       "     steps=[('OneHotEncoder', OneHotEncoder(cols=['licensecat', 'descript', 'city', 'zip'],\n",
       "       drop_invariant=True, handle_unknown='impute', impute_missing=True,\n",
       "       return_df=True, use_cat_names=False, verbose=0)), ('Algorithm', XGBClassifier(base_score=0.5, booster='gbtree', colsample_bylevel=1,...\n",
       "       reg_lambda=1, scale_pos_weight=1, seed=None, silent=None,\n",
       "       subsample=1, verbosity=1))])"
      ]
     },
     "execution_count": 10,
     "metadata": {},
     "output_type": "execute_result"
    }
   ],
   "source": [
    "from sklearn.pipeline import Pipeline\n",
    "\n",
    "steps = [('OneHotEncoder', onehot), ('Algorithm', algorithm)]\n",
    "\n",
    "search = Pipeline(steps)\n",
    "\n",
    "search.fit(X_train, y_train)"
   ]
  },
  {
   "cell_type": "markdown",
   "metadata": {},
   "source": [
    "# Grid Search"
   ]
  },
  {
   "cell_type": "markdown",
   "metadata": {
    "scrolled": true
   },
   "source": [
    "from sklearn.model_selection import GridSearchCV\n",
    "\n",
    "tuned_parameters = {}\n",
    "tuned_parameters['XGBClassifier__seed'] = [7]\n",
    "tuned_parameters['XGBClassifier__learning_rate'] = [0.1, 0.3]\n",
    "tuned_parameters['XGBClassifier__max_depth'] = [3, 6]\n",
    "tuned_parameters['XGBClassifier__nthread'] = [8]\n",
    "\n",
    "search = GridSearchCV(pipe, tuned_parameters, cv = 5, scoring='acc', n_jobs = -1, verbose = 10)\n",
    "\n",
    "search.fit(X_train, y_train)"
   ]
  },
  {
   "cell_type": "markdown",
   "metadata": {},
   "source": [
    "# Results"
   ]
  },
  {
   "cell_type": "markdown",
   "metadata": {},
   "source": [
    "print(\"Best parameter (CV score=%0.3f):\" % search.best_score_)\n",
    "print(search.best_params_)"
   ]
  },
  {
   "cell_type": "code",
   "execution_count": 11,
   "metadata": {
    "scrolled": true
   },
   "outputs": [
    {
     "name": "stdout",
     "output_type": "stream",
     "text": [
      "CV score=0.8375\n"
     ]
    }
   ],
   "source": [
    "print(\"CV score=%0.4f\" % search.score(X_test, y_test))"
   ]
  },
  {
   "cell_type": "code",
<<<<<<< HEAD
   "execution_count": 12,
=======
   "execution_count": 18,
>>>>>>> 7edbd2c02156c63690538dc7a3bb9902460f7d7e
   "metadata": {},
   "outputs": [],
   "source": [
    "predict = search.predict_proba(X_test)"
   ]
  },
  {
   "cell_type": "code",
<<<<<<< HEAD
   "execution_count": 13,
=======
   "execution_count": 17,
>>>>>>> 7edbd2c02156c63690538dc7a3bb9902460f7d7e
   "metadata": {},
   "outputs": [
    {
     "data": {
      "text/plain": [
       "Text(0, 0.5, 'Previsto')"
      ]
     },
<<<<<<< HEAD
     "execution_count": 13,
=======
     "execution_count": 17,
>>>>>>> 7edbd2c02156c63690538dc7a3bb9902460f7d7e
     "metadata": {},
     "output_type": "execute_result"
    },
    {
     "data": {
<<<<<<< HEAD
      "image/png": "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\n",
=======
      "image/png": "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\n",
>>>>>>> 7edbd2c02156c63690538dc7a3bb9902460f7d7e
      "text/plain": [
       "<Figure size 432x288 with 1 Axes>"
      ]
     },
     "metadata": {
      "needs_background": "light"
     },
     "output_type": "display_data"
    }
   ],
   "source": [
    "import matplotlib.pyplot as plt\n",
    "%matplotlib inline\n",
    "\n",
    "plt.scatter(y_test, predict)\n",
    "plt.rcParams[\"figure.figsize\"] = [28, 18]\n",
    "plt.xlabel(\"Real\")\n",
    "plt.ylabel(\"Previsto\")"
   ]
  },
  {
<<<<<<< HEAD
   "cell_type": "code",
   "execution_count": null,
   "metadata": {},
   "outputs": [],
   "source": []
=======
   "cell_type": "markdown",
   "metadata": {},
   "source": [
    "# Feature Importance"
   ]
  },
  {
   "cell_type": "code",
   "execution_count": 14,
   "metadata": {},
   "outputs": [
    {
     "data": {
      "image/png": "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\n",
      "text/plain": [
       "<Figure size 720x1440 with 1 Axes>"
      ]
     },
     "metadata": {
      "needs_background": "light"
     },
     "output_type": "display_data"
    }
   ],
   "source": [
    "import matplotlib.pyplot as plt\n",
    "import numpy as np\n",
    "\n",
    "# Set figure width and height\n",
    "plt.rcParams[\"figure.figsize\"] = [10, 20]\n",
    "\n",
    "names = X_onehot.columns\n",
    "feature_importance = steps[1][1].feature_importances_\n",
    "# make importances relative to max importance\n",
    "feature_importance = 100.0 * (feature_importance / feature_importance.max())\n",
    "sorted_idx = np.argsort(feature_importance)\n",
    "pos = np.arange(sorted_idx.shape[0]) + .5\n",
    "plt.barh(pos, feature_importance[sorted_idx], align='center')\n",
    "plt.yticks(pos,map(lambda x: names[x] + ' (' + str(x) + ')', sorted_idx))\n",
    "plt.xlabel('Relative Importance')\n",
    "plt.title('Variable Importance')\n",
    "plt.show()"
   ]
>>>>>>> 7edbd2c02156c63690538dc7a3bb9902460f7d7e
  }
 ],
 "metadata": {
  "kernelspec": {
   "display_name": "Python 3",
   "language": "python",
   "name": "python3"
  },
  "language_info": {
   "codemirror_mode": {
    "name": "ipython",
    "version": 3
   },
   "file_extension": ".py",
   "mimetype": "text/x-python",
   "name": "python",
   "nbconvert_exporter": "python",
   "pygments_lexer": "ipython3",
   "version": "3.6.8"
  }
 },
 "nbformat": 4,
 "nbformat_minor": 2
}
