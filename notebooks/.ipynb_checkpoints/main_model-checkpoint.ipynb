{
 "cells": [
  {
   "cell_type": "markdown",
   "metadata": {},
   "source": [
    "## Read Data"
   ]
  },
  {
   "cell_type": "code",
   "execution_count": 1,
   "metadata": {},
   "outputs": [],
   "source": [
    "import pandas as pd\n",
    "\n",
    "#Set Pandas display\n",
    "#pd.set_option('display.max_rows', 500)\n",
    "pd.set_option('display.max_columns', 100)\n",
    "#pd.set_option('display.width', 1000)\n",
    "\n",
    "df = pd.read_csv(\"../parquet_files/train_data/part-00000-12b9771c-aa42-4525-a430-a8abd80280bf-c000.csv\", sep=';')"
   ]
  },
  {
   "cell_type": "markdown",
   "metadata": {},
   "source": [
    "## Split data into train and test"
   ]
  },
  {
   "cell_type": "code",
   "execution_count": 2,
   "metadata": {},
   "outputs": [
    {
     "name": "stdout",
     "output_type": "stream",
     "text": [
      "Train dataset shape:\n",
      "(50987, 16)\n",
      "Test dataset shape:\n",
      "(21852, 16)\n"
     ]
    }
   ],
   "source": [
    "from sklearn.model_selection import train_test_split\n",
    "\n",
    "X = df.drop('fail', axis=1)\n",
    "\n",
    "y = df.fail\n",
    "\n",
    "X_train, X_test, y_train, y_test = train_test_split(X, y, test_size=0.3, random_state=1407)\n",
    "\n",
    "X_train = X_train.reset_index(drop=True)\n",
    "y_train = y_train.reset_index(drop=True)\n",
    "\n",
    "X_test = X_test.reset_index(drop=True)\n",
    "y_test = y_test.reset_index(drop=True)\n",
    "\n",
    "print(\"Train dataset shape:\")\n",
    "print(X_train.shape)\n",
    "\n",
    "print(\"Test dataset shape:\")\n",
    "print(X_test.shape)"
   ]
  },
  {
   "cell_type": "code",
   "execution_count": 3,
   "metadata": {},
   "outputs": [
    {
     "data": {
      "text/plain": [
       "1    33691\n",
       "0    17296\n",
       "Name: fail, dtype: int64"
      ]
     },
     "execution_count": 3,
     "metadata": {},
     "output_type": "execute_result"
    }
   ],
   "source": [
    "y_train.value_counts()"
   ]
  },
  {
   "cell_type": "markdown",
   "metadata": {},
   "source": [
    "## Check Missing"
   ]
  },
  {
   "cell_type": "code",
   "execution_count": 4,
   "metadata": {},
   "outputs": [
    {
     "data": {
      "text/html": [
       "<div>\n",
       "<style scoped>\n",
       "    .dataframe tbody tr th:only-of-type {\n",
       "        vertical-align: middle;\n",
       "    }\n",
       "\n",
       "    .dataframe tbody tr th {\n",
       "        vertical-align: top;\n",
       "    }\n",
       "\n",
       "    .dataframe thead th {\n",
       "        text-align: right;\n",
       "    }\n",
       "</style>\n",
       "<table border=\"1\" class=\"dataframe\">\n",
       "  <thead>\n",
       "    <tr style=\"text-align: right;\">\n",
       "      <th></th>\n",
       "      <th>Feature</th>\n",
       "      <th>Classes</th>\n",
       "      <th>Datatype</th>\n",
       "      <th>Missing</th>\n",
       "      <th>Missing Percent</th>\n",
       "    </tr>\n",
       "  </thead>\n",
       "  <tbody>\n",
       "    <tr>\n",
       "      <th>4</th>\n",
       "      <td>location</td>\n",
       "      <td>2904</td>\n",
       "      <td>object</td>\n",
       "      <td>4386</td>\n",
       "      <td>0.086022</td>\n",
       "    </tr>\n",
       "    <tr>\n",
       "      <th>10</th>\n",
       "      <td>last_inspections</td>\n",
       "      <td>48465</td>\n",
       "      <td>object</td>\n",
       "      <td>2499</td>\n",
       "      <td>0.049012</td>\n",
       "    </tr>\n",
       "    <tr>\n",
       "      <th>1</th>\n",
       "      <td>resultdttm</td>\n",
       "      <td>50850</td>\n",
       "      <td>object</td>\n",
       "      <td>110</td>\n",
       "      <td>0.002157</td>\n",
       "    </tr>\n",
       "    <tr>\n",
       "      <th>2</th>\n",
       "      <td>issdttm</td>\n",
       "      <td>5371</td>\n",
       "      <td>object</td>\n",
       "      <td>27</td>\n",
       "      <td>0.000530</td>\n",
       "    </tr>\n",
       "    <tr>\n",
       "      <th>8</th>\n",
       "      <td>zip</td>\n",
       "      <td>35</td>\n",
       "      <td>float64</td>\n",
       "      <td>22</td>\n",
       "      <td>0.000431</td>\n",
       "    </tr>\n",
       "    <tr>\n",
       "      <th>3</th>\n",
       "      <td>state</td>\n",
       "      <td>1</td>\n",
       "      <td>object</td>\n",
       "      <td>18</td>\n",
       "      <td>0.000353</td>\n",
       "    </tr>\n",
       "    <tr>\n",
       "      <th>7</th>\n",
       "      <td>city</td>\n",
       "      <td>34</td>\n",
       "      <td>object</td>\n",
       "      <td>3</td>\n",
       "      <td>0.000059</td>\n",
       "    </tr>\n",
       "    <tr>\n",
       "      <th>0</th>\n",
       "      <td>property_id</td>\n",
       "      <td>3358</td>\n",
       "      <td>int64</td>\n",
       "      <td>0</td>\n",
       "      <td>0.000000</td>\n",
       "    </tr>\n",
       "    <tr>\n",
       "      <th>5</th>\n",
       "      <td>licensecat</td>\n",
       "      <td>4</td>\n",
       "      <td>object</td>\n",
       "      <td>0</td>\n",
       "      <td>0.000000</td>\n",
       "    </tr>\n",
       "    <tr>\n",
       "      <th>6</th>\n",
       "      <td>descript</td>\n",
       "      <td>4</td>\n",
       "      <td>object</td>\n",
       "      <td>0</td>\n",
       "      <td>0.000000</td>\n",
       "    </tr>\n",
       "    <tr>\n",
       "      <th>9</th>\n",
       "      <td>inspections_so_far</td>\n",
       "      <td>1100</td>\n",
       "      <td>int64</td>\n",
       "      <td>0</td>\n",
       "      <td>0.000000</td>\n",
       "    </tr>\n",
       "    <tr>\n",
       "      <th>11</th>\n",
       "      <td>days_since_last_inspect</td>\n",
       "      <td>1211</td>\n",
       "      <td>int64</td>\n",
       "      <td>0</td>\n",
       "      <td>0.000000</td>\n",
       "    </tr>\n",
       "    <tr>\n",
       "      <th>12</th>\n",
       "      <td>viol_fail</td>\n",
       "      <td>50</td>\n",
       "      <td>int64</td>\n",
       "      <td>0</td>\n",
       "      <td>0.000000</td>\n",
       "    </tr>\n",
       "    <tr>\n",
       "      <th>13</th>\n",
       "      <td>viol_pass</td>\n",
       "      <td>42</td>\n",
       "      <td>int64</td>\n",
       "      <td>0</td>\n",
       "      <td>0.000000</td>\n",
       "    </tr>\n",
       "    <tr>\n",
       "      <th>14</th>\n",
       "      <td>last_viol_fail</td>\n",
       "      <td>50</td>\n",
       "      <td>int64</td>\n",
       "      <td>0</td>\n",
       "      <td>0.000000</td>\n",
       "    </tr>\n",
       "    <tr>\n",
       "      <th>15</th>\n",
       "      <td>last_viol_pass</td>\n",
       "      <td>44</td>\n",
       "      <td>int64</td>\n",
       "      <td>0</td>\n",
       "      <td>0.000000</td>\n",
       "    </tr>\n",
       "  </tbody>\n",
       "</table>\n",
       "</div>"
      ],
      "text/plain": [
       "                    Feature  Classes Datatype  Missing  Missing Percent\n",
       "4                  location     2904   object     4386         0.086022\n",
       "10         last_inspections    48465   object     2499         0.049012\n",
       "1                resultdttm    50850   object      110         0.002157\n",
       "2                   issdttm     5371   object       27         0.000530\n",
       "8                       zip       35  float64       22         0.000431\n",
       "3                     state        1   object       18         0.000353\n",
       "7                      city       34   object        3         0.000059\n",
       "0               property_id     3358    int64        0         0.000000\n",
       "5                licensecat        4   object        0         0.000000\n",
       "6                  descript        4   object        0         0.000000\n",
       "9        inspections_so_far     1100    int64        0         0.000000\n",
       "11  days_since_last_inspect     1211    int64        0         0.000000\n",
       "12                viol_fail       50    int64        0         0.000000\n",
       "13                viol_pass       42    int64        0         0.000000\n",
       "14           last_viol_fail       50    int64        0         0.000000\n",
       "15           last_viol_pass       44    int64        0         0.000000"
      ]
     },
     "execution_count": 4,
     "metadata": {},
     "output_type": "execute_result"
    }
   ],
   "source": [
    "def describe_more( df ):\n",
    "    feature = [] ; classes = [] ; datatype = [] ; missing = [] ; missing_perc = []\n",
    "    nrow = len(df)\n",
    "    for x in df:\n",
    "        feature.append(x)\n",
    "        classes.append(len( pd.value_counts(df[x])))\n",
    "        datatype.append(df[x].dtypes)\n",
    "        missing.append(sum(df[x].isnull()))\n",
    "        missing_perc.append(sum(df[x].isnull()) / nrow)\n",
    "    #print(var,l,t)\n",
    "    levels = pd.DataFrame( { 'Feature' : feature , 'Classes' : classes , 'Datatype' : datatype, 'Missing' : missing, 'Missing Percent' : missing_perc } )\n",
    "    levels.sort_values( by = 'Missing' , inplace = True , ascending= False)\n",
    "    return levels\n",
    "\n",
    "describe_more(X_train)"
   ]
  },
  {
   "cell_type": "markdown",
   "metadata": {},
   "source": [
    "# Select Features"
   ]
  },
  {
   "cell_type": "code",
   "execution_count": 5,
   "metadata": {},
   "outputs": [],
   "source": [
    "remove_cols = ['location', 'last_inspections', 'resultdttm', 'issdttm', 'property_id', 'state', 'viol_fail', 'viol_pass']\n",
    "\n",
    "X_train = X_train.drop(remove_cols, axis=1)\n",
    "X_test = X_test.drop(remove_cols, axis=1)"
   ]
  },
  {
   "cell_type": "code",
   "execution_count": 6,
   "metadata": {},
   "outputs": [
    {
     "data": {
      "text/html": [
       "<div>\n",
       "<style scoped>\n",
       "    .dataframe tbody tr th:only-of-type {\n",
       "        vertical-align: middle;\n",
       "    }\n",
       "\n",
       "    .dataframe tbody tr th {\n",
       "        vertical-align: top;\n",
       "    }\n",
       "\n",
       "    .dataframe thead th {\n",
       "        text-align: right;\n",
       "    }\n",
       "</style>\n",
       "<table border=\"1\" class=\"dataframe\">\n",
       "  <thead>\n",
       "    <tr style=\"text-align: right;\">\n",
       "      <th></th>\n",
       "      <th>Feature</th>\n",
       "      <th>Classes</th>\n",
       "      <th>Datatype</th>\n",
       "      <th>Missing</th>\n",
       "      <th>Missing Percent</th>\n",
       "    </tr>\n",
       "  </thead>\n",
       "  <tbody>\n",
       "    <tr>\n",
       "      <th>3</th>\n",
       "      <td>zip</td>\n",
       "      <td>35</td>\n",
       "      <td>float64</td>\n",
       "      <td>22</td>\n",
       "      <td>0.000431</td>\n",
       "    </tr>\n",
       "    <tr>\n",
       "      <th>2</th>\n",
       "      <td>city</td>\n",
       "      <td>34</td>\n",
       "      <td>object</td>\n",
       "      <td>3</td>\n",
       "      <td>0.000059</td>\n",
       "    </tr>\n",
       "    <tr>\n",
       "      <th>0</th>\n",
       "      <td>licensecat</td>\n",
       "      <td>4</td>\n",
       "      <td>object</td>\n",
       "      <td>0</td>\n",
       "      <td>0.000000</td>\n",
       "    </tr>\n",
       "    <tr>\n",
       "      <th>1</th>\n",
       "      <td>descript</td>\n",
       "      <td>4</td>\n",
       "      <td>object</td>\n",
       "      <td>0</td>\n",
       "      <td>0.000000</td>\n",
       "    </tr>\n",
       "    <tr>\n",
       "      <th>4</th>\n",
       "      <td>inspections_so_far</td>\n",
       "      <td>1100</td>\n",
       "      <td>int64</td>\n",
       "      <td>0</td>\n",
       "      <td>0.000000</td>\n",
       "    </tr>\n",
       "    <tr>\n",
       "      <th>5</th>\n",
       "      <td>days_since_last_inspect</td>\n",
       "      <td>1211</td>\n",
       "      <td>int64</td>\n",
       "      <td>0</td>\n",
       "      <td>0.000000</td>\n",
       "    </tr>\n",
       "    <tr>\n",
       "      <th>6</th>\n",
       "      <td>viol_fail</td>\n",
       "      <td>50</td>\n",
       "      <td>int64</td>\n",
       "      <td>0</td>\n",
       "      <td>0.000000</td>\n",
       "    </tr>\n",
       "    <tr>\n",
       "      <th>7</th>\n",
       "      <td>viol_pass</td>\n",
       "      <td>42</td>\n",
       "      <td>int64</td>\n",
       "      <td>0</td>\n",
       "      <td>0.000000</td>\n",
       "    </tr>\n",
       "    <tr>\n",
       "      <th>8</th>\n",
       "      <td>last_viol_fail</td>\n",
       "      <td>50</td>\n",
       "      <td>int64</td>\n",
       "      <td>0</td>\n",
       "      <td>0.000000</td>\n",
       "    </tr>\n",
       "    <tr>\n",
       "      <th>9</th>\n",
       "      <td>last_viol_pass</td>\n",
       "      <td>44</td>\n",
       "      <td>int64</td>\n",
       "      <td>0</td>\n",
       "      <td>0.000000</td>\n",
       "    </tr>\n",
       "  </tbody>\n",
       "</table>\n",
       "</div>"
      ],
      "text/plain": [
       "                   Feature  Classes Datatype  Missing  Missing Percent\n",
       "3                      zip       35  float64       22         0.000431\n",
       "2                     city       34   object        3         0.000059\n",
       "0               licensecat        4   object        0         0.000000\n",
       "1                 descript        4   object        0         0.000000\n",
       "4       inspections_so_far     1100    int64        0         0.000000\n",
       "5  days_since_last_inspect     1211    int64        0         0.000000\n",
       "6                viol_fail       50    int64        0         0.000000\n",
       "7                viol_pass       42    int64        0         0.000000\n",
       "8           last_viol_fail       50    int64        0         0.000000\n",
       "9           last_viol_pass       44    int64        0         0.000000"
      ]
     },
     "execution_count": 6,
     "metadata": {},
     "output_type": "execute_result"
    }
   ],
   "source": [
    "describe_more(X_train)"
   ]
  },
  {
   "cell_type": "markdown",
   "metadata": {},
   "source": [
    "# One Hot Encode"
   ]
  },
  {
   "cell_type": "code",
   "execution_count": 34,
   "metadata": {},
   "outputs": [],
   "source": [
    "from category_encoders import OneHotEncoder\n",
    "\n",
    "onehot = OneHotEncoder(cols=['licensecat', 'descript', 'city', 'zip'], drop_invariant=True)\n",
    "\n",
    "X_onehot = onehot.fit_transform(X_train)\n",
    "X_onehot_cols = X_onehot.columns"
   ]
  },
  {
   "cell_type": "markdown",
   "metadata": {},
   "source": [
    "# Random Forest"
   ]
  },
  {
   "cell_type": "code",
   "execution_count": 8,
   "metadata": {},
   "outputs": [],
   "source": [
    "#from sklearn import ensemble\n",
    "\n",
    "#params = {'max_depth': 9, 'max_features': 5, 'n_estimators': 500, 'random_state': 30}\n",
    "\n",
    "#algorithm = ensemble.RandomForestClassifier(**params)"
   ]
  },
  {
   "cell_type": "markdown",
   "metadata": {},
   "source": [
    "# XGB Classifier"
   ]
  },
  {
   "cell_type": "code",
   "execution_count": 9,
   "metadata": {},
   "outputs": [],
   "source": [
    "from xgboost import XGBClassifier\n",
    "\n",
    "#params = {'learning_rate': 0.01, 'max_depth ': 5, 'n_estimators': 900, 'seed': 7}\n",
    "params = {'seed': 7}\n",
    "\n",
    "#algorithm = XGBClassifier(**params)\n",
    "algorithm = XGBClassifier()"
   ]
  },
  {
   "cell_type": "markdown",
   "metadata": {},
   "source": [
    "# Pipeline"
   ]
  },
  {
   "cell_type": "code",
   "execution_count": 10,
   "metadata": {},
   "outputs": [
    {
     "data": {
      "text/plain": [
       "Pipeline(memory=None,\n",
       "     steps=[('OneHotEncoder', OneHotEncoder(cols=['licensecat', 'descript', 'city', 'zip'],\n",
       "       drop_invariant=True, handle_unknown='impute', impute_missing=True,\n",
       "       return_df=True, use_cat_names=False, verbose=0)), ('Algorithm', XGBClassifier(base_score=0.5, booster='gbtree', colsample_bylevel=1,...\n",
       "       reg_alpha=0, reg_lambda=1, scale_pos_weight=1, seed=None,\n",
       "       silent=True, subsample=1))])"
      ]
     },
     "execution_count": 10,
     "metadata": {},
     "output_type": "execute_result"
    }
   ],
   "source": [
    "from sklearn.pipeline import Pipeline\n",
    "\n",
    "steps = [('OneHotEncoder', onehot), ('Algorithm', algorithm)]\n",
    "\n",
    "search = Pipeline(steps)\n",
    "\n",
    "search.fit(X_train, y_train)"
   ]
  },
  {
   "cell_type": "markdown",
   "metadata": {},
   "source": [
    "# Grid Search"
   ]
  },
  {
   "cell_type": "markdown",
   "metadata": {
    "scrolled": true
   },
   "source": [
    "from sklearn.model_selection import GridSearchCV\n",
    "\n",
    "tuned_parameters = {}\n",
    "tuned_parameters['XGBClassifier__seed'] = [7]\n",
    "tuned_parameters['XGBClassifier__learning_rate'] = [0.1, 0.3]\n",
    "tuned_parameters['XGBClassifier__max_depth'] = [3, 6]\n",
    "tuned_parameters['XGBClassifier__nthread'] = [8]\n",
    "\n",
    "search = GridSearchCV(pipe, tuned_parameters, cv = 5, scoring='acc', n_jobs = -1, verbose = 10)\n",
    "\n",
    "search.fit(X_train, y_train)"
   ]
  },
  {
   "cell_type": "markdown",
   "metadata": {},
   "source": [
    "# Results"
   ]
  },
  {
   "cell_type": "markdown",
   "metadata": {},
   "source": [
    "print(\"Best parameter (CV score=%0.3f):\" % search.best_score_)\n",
    "print(search.best_params_)"
   ]
  },
  {
   "cell_type": "code",
   "execution_count": 9,
   "metadata": {
    "scrolled": true
   },
   "outputs": [
    {
     "name": "stdout",
     "output_type": "stream",
     "text": [
      "CV score=1.0000\n"
     ]
    }
   ],
   "source": [
    "print(\"CV score=%0.4f\" % search.score(X_test, y_test))"
   ]
  },
  {
   "cell_type": "code",
   "execution_count": 15,
   "metadata": {},
   "outputs": [],
   "source": [
    "predict = search.predict(X_test)"
   ]
  },
  {
   "cell_type": "code",
   "execution_count": 16,
   "metadata": {},
   "outputs": [
    {
     "data": {
      "text/plain": [
       "Text(0,0.5,'Previsto')"
      ]
     },
     "execution_count": 16,
     "metadata": {},
     "output_type": "execute_result"
    },
    {
     "data": {
      "image/png": "[encoded data removed]",
      "text/plain": [
       "<Figure size 432x288 with 1 Axes>"
      ]
     },
     "metadata": {
      "needs_background": "light"
     },
     "output_type": "display_data"
    }
   ],
   "source": [
    "import matplotlib.pyplot as plt\n",
    "%matplotlib inline\n",
    "\n",
    "plt.scatter(y_test, predict)\n",
    "plt.rcParams[\"figure.figsize\"] = [28, 18]\n",
    "plt.xlabel(\"Real\")\n",
    "plt.ylabel(\"Previsto\")"
   ]
  },
  {
   "cell_type": "markdown",
   "metadata": {},
   "source": [
    "# Feature Importance"
   ]
  },
  {
   "cell_type": "code",
   "execution_count": 36,
   "metadata": {},
   "outputs": [
    {
     "data": {
      "image/png": "[encoded data removed]",
      "text/plain": [
       "<Figure size 720x1440 with 1 Axes>"
      ]
     },
     "metadata": {
      "needs_background": "light"
     },
     "output_type": "display_data"
    }
   ],
   "source": [
    "import matplotlib.pyplot as plt\n",
    "import numpy as np\n",
    "\n",
    "# Set figure width and height\n",
    "plt.rcParams[\"figure.figsize\"] = [10, 20]\n",
    "\n",
    "names = X_onehot.columns\n",
    "feature_importance = steps[1][1].feature_importances_\n",
    "# make importances relative to max importance\n",
    "feature_importance = 100.0 * (feature_importance / feature_importance.max())\n",
    "sorted_idx = np.argsort(feature_importance)\n",
    "pos = np.arange(sorted_idx.shape[0]) + .5\n",
    "plt.barh(pos, feature_importance[sorted_idx], align='center')\n",
    "plt.yticks(pos,map(lambda x: names[x] + ' (' + str(x) + ')', sorted_idx))\n",
    "plt.xlabel('Relative Importance')\n",
    "plt.title('Variable Importance')\n",
    "plt.show()"
   ]
  },
  {
   "cell_type": "code",
   "execution_count": 33,
   "metadata": {},
   "outputs": [
    {
     "data": {
      "text/plain": [
       "[{'col': 'licensecat',\n",
       "  'mapping': [('RF', 1), ('FT', 2), ('FS', 3), ('MFW', 4)]},\n",
       " {'col': 'descript',\n",
       "  'mapping': [('Retail Food', 1),\n",
       "   ('Eating & Drinking w/ Take Out', 2),\n",
       "   ('Eating & Drinking', 3),\n",
       "   ('Mobile Food Walk On', 4)]},\n",
       " {'col': 'city',\n",
       "  'mapping': [('mattapan', 1),\n",
       "   ('roslindale', 2),\n",
       "   ('boston', 3),\n",
       "   ('allston', 4),\n",
       "   ('roxbury', 5),\n",
       "   ('dorchester', 6),\n",
       "   ('south boston', 7),\n",
       "   ('hyde park', 8),\n",
       "   ('west roxbury', 9),\n",
       "   ('jamaica plain', 10),\n",
       "   ('brighton', 11),\n",
       "   ('east boston', 12),\n",
       "   ('mission hill', 13),\n",
       "   ('charlestown', 14),\n",
       "   ('east  boston', 15),\n",
       "   ('financial district/', 16),\n",
       "   ('fenway', 17),\n",
       "   ('east boston/', 18),\n",
       "   ('financial district', 19),\n",
       "   ('south end', 20),\n",
       "   ('chestnut hill', 21),\n",
       "   ('south boston/', 22),\n",
       "   ('charlestown/', 23),\n",
       "   ('mission hill/', 24),\n",
       "   ('dorchester/', 25),\n",
       "   ('boston/chinatown', 26),\n",
       "   ('roxbury/boston', 27),\n",
       "   ('west roxbury//', 28),\n",
       "   ('brighton/', 29),\n",
       "   ('roslindale/', 30),\n",
       "   ('fenway/', 31),\n",
       "   ('back bay/', 32),\n",
       "   ('boston/west end', 33),\n",
       "   (nan, 34),\n",
       "   ('mattapan/', 35)]},\n",
       " {'col': 'zip',\n",
       "  'mapping': [(2126.0, 1),\n",
       "   (2131.0, 2),\n",
       "   (2127.0, 3),\n",
       "   (2110.0, 4),\n",
       "   (2134.0, 5),\n",
       "   (2199.0, 6),\n",
       "   (2109.0, 7),\n",
       "   (2128.0, 8),\n",
       "   (2111.0, 9),\n",
       "   (2116.0, 10),\n",
       "   (2215.0, 11),\n",
       "   (2119.0, 12),\n",
       "   (2118.0, 13),\n",
       "   (2125.0, 14),\n",
       "   (2108.0, 15),\n",
       "   (2113.0, 16),\n",
       "   (2136.0, 17),\n",
       "   (2115.0, 18),\n",
       "   (2132.0, 19),\n",
       "   (2130.0, 20),\n",
       "   (2135.0, 21),\n",
       "   (2114.0, 22),\n",
       "   (2122.0, 23),\n",
       "   (nan, 24),\n",
       "   (2124.0, 25),\n",
       "   (2121.0, 26),\n",
       "   (2129.0, 27),\n",
       "   (2120.0, 28),\n",
       "   (2210.0, 29),\n",
       "   (2203.0, 30),\n",
       "   (2467.0, 31),\n",
       "   (2117.0, 32),\n",
       "   (2201.0, 33),\n",
       "   (2140.0, 34),\n",
       "   (2163.0, 35),\n",
       "   (2315.0, 36)]}]"
      ]
     },
     "execution_count": 33,
     "metadata": {},
     "output_type": "execute_result"
    }
   ],
   "source": [
    "steps[0][1].category_mapping"
   ]
  },
  {
   "cell_type": "code",
   "execution_count": 25,
   "metadata": {},
   "outputs": [
    {
     "data": {
      "text/plain": [
       "array([0., 0., 0., 0., 0., 0., 0., 0., 0., 0., 0., 0., 0., 0., 0., 0., 0.,\n",
       "       0., 0., 0., 0., 0., 0., 0., 0., 0., 0., 0., 0., 0., 0., 0., 0., 0.,\n",
       "       0., 0., 0., 0., 0., 0., 0., 0., 0., 0., 0., 0., 0., 0., 0., 0., 0.,\n",
       "       0., 0., 0., 0., 0., 0., 0., 0., 0., 0., 0., 0., 0., 0., 0., 0., 0.,\n",
       "       0., 0., 0., 0., 1., 0., 0., 0.], dtype=float32)"
      ]
     },
     "execution_count": 25,
     "metadata": {},
     "output_type": "execute_result"
    }
   ],
   "source": [
    "steps[1][1].feature_importances_"
   ]
  }
 ],
 "metadata": {
  "kernelspec": {
   "display_name": "Python 3",
   "language": "python",
   "name": "python3"
  },
  "language_info": {
   "codemirror_mode": {
    "name": "ipython",
    "version": 3
   },
   "file_extension": ".py",
   "mimetype": "text/x-python",
   "name": "python",
   "nbconvert_exporter": "python",
   "pygments_lexer": "ipython3",
   "version": "3.6.7"
  }
 },
 "nbformat": 4,
 "nbformat_minor": 2
}
