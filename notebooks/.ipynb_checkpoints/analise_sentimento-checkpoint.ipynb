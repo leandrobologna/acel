{
 "cells": [
  {
   "cell_type": "code",
   "execution_count": 1,
   "metadata": {
    "colab": {
     "base_uri": "https://localhost:8080/",
     "height": 34
    },
    "colab_type": "code",
    "executionInfo": {
     "elapsed": 2608,
     "status": "ok",
     "timestamp": 1539531457424,
     "user": {
      "displayName": "Carlos Bologna",
      "photoUrl": "",
      "userId": "18209603936497523758"
     },
     "user_tz": 180
    },
    "id": "Bfd7l2GqDhPr",
    "outputId": "b1eb8765-beb9-4fd2-ab17-cbbaee587f59"
   },
   "outputs": [
    {
     "ename": "ModuleNotFoundError",
     "evalue": "No module named 'keras'",
     "output_type": "error",
     "traceback": [
      "\u001b[1;31m---------------------------------------------------------------------------\u001b[0m",
      "\u001b[1;31mModuleNotFoundError\u001b[0m                       Traceback (most recent call last)",
      "\u001b[1;32m<ipython-input-1-3dcb589da27c>\u001b[0m in \u001b[0;36m<module>\u001b[1;34m()\u001b[0m\n\u001b[0;32m      1\u001b[0m \u001b[1;32mimport\u001b[0m \u001b[0mnumpy\u001b[0m \u001b[1;32mas\u001b[0m \u001b[0mnp\u001b[0m\u001b[1;33m\u001b[0m\u001b[0m\n\u001b[0;32m      2\u001b[0m \u001b[1;32mimport\u001b[0m \u001b[0mpandas\u001b[0m \u001b[1;32mas\u001b[0m \u001b[0mpd\u001b[0m\u001b[1;33m\u001b[0m\u001b[0m\n\u001b[1;32m----> 3\u001b[1;33m \u001b[1;32mfrom\u001b[0m \u001b[0mkeras\u001b[0m\u001b[1;33m.\u001b[0m\u001b[0mdatasets\u001b[0m \u001b[1;32mimport\u001b[0m \u001b[0mimdb\u001b[0m\u001b[1;33m\u001b[0m\u001b[0m\n\u001b[0m\u001b[0;32m      4\u001b[0m \u001b[1;32mfrom\u001b[0m \u001b[0mkeras\u001b[0m\u001b[1;33m.\u001b[0m\u001b[0mmodels\u001b[0m \u001b[1;32mimport\u001b[0m \u001b[0mSequential\u001b[0m\u001b[1;33m\u001b[0m\u001b[0m\n\u001b[0;32m      5\u001b[0m \u001b[1;32mfrom\u001b[0m \u001b[0mkeras\u001b[0m\u001b[1;33m.\u001b[0m\u001b[0mlayers\u001b[0m \u001b[1;32mimport\u001b[0m \u001b[0mDense\u001b[0m\u001b[1;33m,\u001b[0m \u001b[0mDropout\u001b[0m\u001b[1;33m,\u001b[0m \u001b[0mLSTM\u001b[0m\u001b[1;33m\u001b[0m\u001b[0m\n",
      "\u001b[1;31mModuleNotFoundError\u001b[0m: No module named 'keras'"
     ]
    }
   ],
   "source": [
    "import numpy as np\n",
    "import pandas as pd\n",
    "from keras.datasets import imdb\n",
    "from keras.models import Sequential\n",
    "from keras.layers import Dense, Dropout, LSTM\n",
    "from keras.layers.embeddings import Embedding\n",
    "from keras.preprocessing import sequence\n",
    "# fix random seed for reproducibility\n",
    "np.random.seed(42)"
   ]
  },
  {
   "cell_type": "code",
   "execution_count": 2,
   "metadata": {
    "colab": {
     "base_uri": "https://localhost:8080/",
     "height": 52
    },
    "colab_type": "code",
    "executionInfo": {
     "elapsed": 9379,
     "status": "ok",
     "timestamp": 1539531469631,
     "user": {
      "displayName": "Carlos Bologna",
      "photoUrl": "",
      "userId": "18209603936497523758"
     },
     "user_tz": 180
    },
    "id": "wkSRcIRIDhQM",
    "outputId": "c74220d6-36c4-45df-95d9-143a119b2187"
   },
   "outputs": [
    {
     "name": "stdout",
     "output_type": "stream",
     "text": [
      "Downloading data from https://s3.amazonaws.com/text-datasets/imdb.npz\n",
      "17465344/17464789 [==============================] - 2s 0us/step\n"
     ]
    }
   ],
   "source": [
    "# load the dataset but only keep the top n words, zero the rest\n",
    "N_WORDS = 5000\n",
    "INDEX_FROM = 0\n",
    "(X_train, y_train), (X_test, y_test) = imdb.load_data(num_words=N_WORDS, index_from=INDEX_FROM)"
   ]
  },
  {
   "cell_type": "code",
   "execution_count": 3,
   "metadata": {
    "colab": {
     "base_uri": "https://localhost:8080/",
     "height": 34
    },
    "colab_type": "code",
    "executionInfo": {
     "elapsed": 539,
     "status": "ok",
     "timestamp": 1539445460773,
     "user": {
      "displayName": "Carlos Bologna",
      "photoUrl": "",
      "userId": "18209603936497523758"
     },
     "user_tz": 180
    },
    "id": "63JQzzsnDhQe",
    "outputId": "2f462ba6-8eb3-45d7-caea-1e640cda9f38"
   },
   "outputs": [
    {
     "name": "stdout",
     "output_type": "stream",
     "text": [
      "Train data shapes: (25000,) (25000,)\n"
     ]
    }
   ],
   "source": [
    "print(\"Train data shapes:\" , X_train.shape, y_train.shape)"
   ]
  },
  {
   "cell_type": "code",
   "execution_count": 4,
   "metadata": {
    "colab": {
     "base_uri": "https://localhost:8080/",
     "height": 34
    },
    "colab_type": "code",
    "executionInfo": {
     "elapsed": 504,
     "status": "ok",
     "timestamp": 1539445465486,
     "user": {
      "displayName": "Carlos Bologna",
      "photoUrl": "",
      "userId": "18209603936497523758"
     },
     "user_tz": 180
    },
    "id": "tnV4LfPnDhQ1",
    "outputId": "0a614b74-cffb-48b5-fbdf-d26cf7a3d929"
   },
   "outputs": [
    {
     "name": "stdout",
     "output_type": "stream",
     "text": [
      "Test data shapes: (25000,) (25000,)\n"
     ]
    }
   ],
   "source": [
    "print(\"Test data shapes:\" , X_test.shape, y_test.shape)"
   ]
  },
  {
   "cell_type": "code",
   "execution_count": 5,
   "metadata": {
    "colab": {
     "base_uri": "https://localhost:8080/",
     "height": 69
    },
    "colab_type": "code",
    "executionInfo": {
     "elapsed": 861,
     "status": "ok",
     "timestamp": 1539445474323,
     "user": {
      "displayName": "Carlos Bologna",
      "photoUrl": "",
      "userId": "18209603936497523758"
     },
     "user_tz": 180
    },
    "id": "MHCLfWZdDhRC",
    "outputId": "2d23138c-a06c-4225-a7fc-8ae4402da02d"
   },
   "outputs": [
    {
     "data": {
      "text/plain": [
       "1    12500\n",
       "0    12500\n",
       "Name: 0, dtype: int64"
      ]
     },
     "execution_count": 5,
     "metadata": {
      "tags": []
     },
     "output_type": "execute_result"
    }
   ],
   "source": [
    "pd.DataFrame(y_train)[0].value_counts()"
   ]
  },
  {
   "cell_type": "markdown",
   "metadata": {
    "colab_type": "text",
    "id": "Vh_EGH8FDhRQ"
   },
   "source": [
    "### Print the text"
   ]
  },
  {
   "cell_type": "code",
   "execution_count": 8,
   "metadata": {
    "colab": {
     "base_uri": "https://localhost:8080/",
     "height": 52
    },
    "colab_type": "code",
    "executionInfo": {
     "elapsed": 1353,
     "status": "ok",
     "timestamp": 1539445533618,
     "user": {
      "displayName": "Carlos Bologna",
      "photoUrl": "",
      "userId": "18209603936497523758"
     },
     "user_tz": 180
    },
    "id": "d2ag6t8_DhRW",
    "outputId": "c8dc27cc-74b7-494d-d975-ea8b80e883a3"
   },
   "outputs": [
    {
     "name": "stdout",
     "output_type": "stream",
     "text": [
      "Downloading data from https://s3.amazonaws.com/text-datasets/imdb_word_index.json\n",
      "1646592/1641221 [==============================] - 1s 0us/step\n"
     ]
    }
   ],
   "source": [
    "word_to_id = imdb.get_word_index()\n",
    "word_to_id = {k:(v+INDEX_FROM) for k,v in word_to_id.items()}\n",
    "id_to_word = {value:key for key,value in word_to_id.items()}"
   ]
  },
  {
   "cell_type": "code",
   "execution_count": 10,
   "metadata": {
    "colab": {
     "base_uri": "https://localhost:8080/",
     "height": 54
    },
    "colab_type": "code",
    "executionInfo": {
     "elapsed": 534,
     "status": "ok",
     "timestamp": 1539445549069,
     "user": {
      "displayName": "Carlos Bologna",
      "photoUrl": "",
      "userId": "18209603936497523758"
     },
     "user_tz": 180
    },
    "id": "iobS7nrZDhRo",
    "outputId": "ee199624-bf09-4a71-9ba7-ded93ccc91c9"
   },
   "outputs": [
    {
     "name": "stdout",
     "output_type": "stream",
     "text": [
      "the this film was just brilliant casting location scenery story direction everyone's really suited the part they played and you could just imagine being there robert and is an amazing actor and now the same being director and father came from the same scottish island as myself so i loved the fact there was a real connection with this film the witty remarks throughout the film were great it was just brilliant so much that i bought the film as soon as it was released for and and would recommend it to everyone to watch and the fly and was amazing really cried at the end it was so sad and you know what they say if you cry at a film it must have been good and this definitely was also and to the two little and that played the and of norman and paul they were just brilliant children are often left out of the and list i think because the stars that play them all grown up are such a big and for the whole film but these children are amazing and should be and for what they have done don't you think the whole story was so lovely because it was true and was someone's life after all that was and with us all\n"
     ]
    }
   ],
   "source": [
    "ROW = 0\n",
    "print(' '.join(id_to_word[id] for id in X_train[ROW] ))"
   ]
  },
  {
   "cell_type": "markdown",
   "metadata": {
    "colab_type": "text",
    "id": "4fJhGVNYDhSG"
   },
   "source": [
    "### Pad the sequences"
   ]
  },
  {
   "cell_type": "code",
   "execution_count": 0,
   "metadata": {
    "colab": {},
    "colab_type": "code",
    "id": "31zIGOYiDhSL"
   },
   "outputs": [],
   "source": [
    "max_review_length = 250\n",
    "X_train = sequence.pad_sequences(X_train, maxlen=max_review_length)\n",
    "X_test = sequence.pad_sequences(X_test, maxlen=max_review_length)"
   ]
  },
  {
   "cell_type": "markdown",
   "metadata": {
    "colab_type": "text",
    "id": "pALsdyrCDhSc"
   },
   "source": [
    "### Build the model"
   ]
  },
  {
   "cell_type": "code",
   "execution_count": 23,
   "metadata": {
    "colab": {
     "base_uri": "https://localhost:8080/",
     "height": 469
    },
    "colab_type": "code",
    "executionInfo": {
     "elapsed": 948455,
     "status": "ok",
     "timestamp": 1539446738942,
     "user": {
      "displayName": "Carlos Bologna",
      "photoUrl": "",
      "userId": "18209603936497523758"
     },
     "user_tz": 180
    },
    "id": "6SVN3PyjDhSf",
    "outputId": "82140530-c6fa-46c9-8061-cb61b20dd2ca"
   },
   "outputs": [
    {
     "name": "stdout",
     "output_type": "stream",
     "text": [
      "_________________________________________________________________\n",
      "Layer (type)                 Output Shape              Param #   \n",
      "=================================================================\n",
      "embedding_1 (Embedding)      (None, 250, 32)           160000    \n",
      "_________________________________________________________________\n",
      "dropout_1 (Dropout)          (None, 250, 32)           0         \n",
      "_________________________________________________________________\n",
      "lstm_1 (LSTM)                (None, 100)               53200     \n",
      "_________________________________________________________________\n",
      "dropout_2 (Dropout)          (None, 100)               0         \n",
      "_________________________________________________________________\n",
      "dense_1 (Dense)              (None, 1)                 101       \n",
      "=================================================================\n",
      "Total params: 213,301\n",
      "Trainable params: 213,301\n",
      "Non-trainable params: 0\n",
      "_________________________________________________________________\n",
      "None\n",
      "Train on 25000 samples, validate on 25000 samples\n",
      "Epoch 1/3\n",
      "25000/25000 [==============================] - 315s 13ms/step - loss: 0.5397 - acc: 0.7127 - val_loss: 0.3784 - val_acc: 0.8403\n",
      "Epoch 2/3\n",
      "25000/25000 [==============================] - 315s 13ms/step - loss: 0.3050 - acc: 0.8773 - val_loss: 0.3529 - val_acc: 0.8669\n",
      "Epoch 3/3\n",
      "25000/25000 [==============================] - 316s 13ms/step - loss: 0.2519 - acc: 0.8999 - val_loss: 0.2975 - val_acc: 0.8787\n"
     ]
    },
    {
     "data": {
      "text/plain": [
       "<keras.callbacks.History at 0x7f913ac635c0>"
      ]
     },
     "execution_count": 23,
     "metadata": {
      "tags": []
     },
     "output_type": "execute_result"
    }
   ],
   "source": [
    "# create the model\n",
    "embedding_vector_length = 32\n",
    "model = Sequential()\n",
    "model.add(Embedding(N_WORDS, embedding_vector_length, input_length=max_review_length))\n",
    "model.add(Dropout(0.5))\n",
    "model.add(LSTM(100))\n",
    "model.add(Dropout(0.2))\n",
    "model.add(Dense(1, activation='sigmoid'))\n",
    "model.compile(loss='binary_crossentropy', optimizer='adam', metrics=['accuracy'])\n",
    "print(model.summary())\n",
    "model.fit(X_train, y_train, validation_data=(X_test, y_test), epochs=3, batch_size=64)"
   ]
  },
  {
   "cell_type": "code",
   "execution_count": 0,
   "metadata": {
    "colab": {},
    "colab_type": "code",
    "id": "qKi1FE51DhSr",
    "outputId": "dfacf6f9-039f-49f0-9aa7-7708b5afeedc"
   },
   "outputs": [
    {
     "data": {
      "text/plain": [
       "array([[0.18707702],\n",
       "       [0.9915855 ],\n",
       "       [0.88425034],\n",
       "       ...,\n",
       "       [0.05354523],\n",
       "       [0.12668486],\n",
       "       [0.86854273]], dtype=float32)"
      ]
     },
     "execution_count": 10,
     "metadata": {
      "tags": []
     },
     "output_type": "execute_result"
    }
   ],
   "source": [
    "model.predict_proba(X_test)"
   ]
  },
  {
   "cell_type": "markdown",
   "metadata": {
    "colab_type": "text",
    "id": "y-xAZwSbDhS7"
   },
   "source": [
    "### Let's Play"
   ]
  },
  {
   "cell_type": "code",
   "execution_count": 0,
   "metadata": {
    "colab": {},
    "colab_type": "code",
    "id": "0gnULQI5DhTC",
    "outputId": "315bdc06-5686-496c-8af7-6900571fc579"
   },
   "outputs": [
    {
     "name": "stdout",
     "output_type": "stream",
     "text": [
      "['i', 'liked', 'this', 'movie', 'a', 'lot', 'the', 'characters', 'are', 'deep', 'and', 'well', 'developed']\n"
     ]
    }
   ],
   "source": [
    "review = \"i liked this movie a lot the characters are deep and well developed\"\n",
    "raw_review_list = review.split()\n",
    "print(raw_review_list)"
   ]
  },
  {
   "cell_type": "code",
   "execution_count": 0,
   "metadata": {
    "colab": {},
    "colab_type": "code",
    "id": "PSu_ltGDDhTU"
   },
   "outputs": [],
   "source": [
    "# clean list\n",
    "review_list = []\n",
    "for x in raw_review_list:\n",
    "    if x in list(word_to_id.keys()):\n",
    "        review_list.append(x)"
   ]
  },
  {
   "cell_type": "code",
   "execution_count": 0,
   "metadata": {
    "colab": {},
    "colab_type": "code",
    "id": "fDfvXRL1DhTc",
    "outputId": "b191d4d6-e995-42e9-dddc-f8ee27212cd6"
   },
   "outputs": [
    {
     "data": {
      "text/plain": [
       "[10, 420, 11, 17, 3, 173, 1, 102, 23, 930, 2, 70, 1388]"
      ]
     },
     "execution_count": 13,
     "metadata": {
      "tags": []
     },
     "output_type": "execute_result"
    }
   ],
   "source": [
    "ids_from_words = [word_to_id[x] for x in review_list]\n",
    "ids_from_words"
   ]
  },
  {
   "cell_type": "code",
   "execution_count": 0,
   "metadata": {
    "colab": {},
    "colab_type": "code",
    "id": "l3xLiYzKDhTo"
   },
   "outputs": [],
   "source": [
    "# clean ids_from_words\n",
    "review_ids_from_words = []\n",
    "for x in ids_from_words:\n",
    "    if np.sum(np.isin(X_train, x)) > 0:\n",
    "        review_ids_from_words.append(x)"
   ]
  },
  {
   "cell_type": "code",
   "execution_count": 0,
   "metadata": {
    "colab": {},
    "colab_type": "code",
    "id": "V6eRpyAZDhT-",
    "outputId": "5c42a449-2a96-4cb3-9e83-5536cf8311b6"
   },
   "outputs": [
    {
     "data": {
      "text/plain": [
       "array([[  10,  420,   11,   17,    3,  173,    1,  102,   23,  930,    2,\n",
       "          70, 1388]])"
      ]
     },
     "execution_count": 15,
     "metadata": {
      "tags": []
     },
     "output_type": "execute_result"
    }
   ],
   "source": [
    "# simulate the np.array to be like the train set\n",
    "review_array = np.array(review_ids_from_words).reshape((1,len(review_ids_from_words)))\n",
    "review_array"
   ]
  },
  {
   "cell_type": "code",
   "execution_count": 0,
   "metadata": {
    "colab": {},
    "colab_type": "code",
    "id": "AFSQVzC-DhUV",
    "outputId": "f74e8bd2-9cdc-4c32-a0c3-34e3913d60e4"
   },
   "outputs": [
    {
     "data": {
      "text/plain": [
       "array([[   0,    0,    0,    0,    0,    0,    0,    0,    0,    0,    0,\n",
       "           0,    0,    0,    0,    0,    0,    0,    0,    0,    0,    0,\n",
       "           0,    0,    0,    0,    0,    0,    0,    0,    0,    0,    0,\n",
       "           0,    0,    0,    0,    0,    0,    0,    0,    0,    0,    0,\n",
       "           0,    0,    0,    0,    0,    0,    0,    0,    0,    0,    0,\n",
       "           0,    0,    0,    0,    0,    0,    0,    0,    0,    0,    0,\n",
       "           0,    0,    0,    0,    0,    0,    0,    0,    0,    0,    0,\n",
       "           0,    0,    0,    0,    0,    0,    0,    0,    0,    0,    0,\n",
       "           0,    0,    0,    0,    0,    0,    0,    0,    0,    0,    0,\n",
       "           0,    0,    0,    0,    0,    0,    0,    0,    0,    0,    0,\n",
       "           0,    0,    0,    0,    0,    0,    0,    0,    0,    0,    0,\n",
       "           0,    0,    0,    0,    0,    0,    0,    0,    0,    0,    0,\n",
       "           0,    0,    0,    0,    0,    0,    0,    0,    0,    0,    0,\n",
       "           0,    0,    0,    0,    0,    0,    0,    0,    0,    0,    0,\n",
       "           0,    0,    0,    0,    0,    0,    0,    0,    0,    0,    0,\n",
       "           0,    0,    0,    0,    0,    0,    0,    0,    0,    0,    0,\n",
       "           0,    0,    0,    0,    0,    0,    0,    0,    0,    0,    0,\n",
       "           0,    0,    0,    0,    0,    0,    0,    0,    0,    0,    0,\n",
       "           0,    0,    0,    0,    0,    0,    0,    0,    0,    0,    0,\n",
       "           0,    0,    0,    0,    0,    0,    0,    0,    0,    0,    0,\n",
       "           0,    0,    0,    0,    0,    0,    0,    0,    0,    0,    0,\n",
       "           0,    0,    0,    0,    0,    0,   10,  420,   11,   17,    3,\n",
       "         173,    1,  102,   23,  930,    2,   70, 1388]])"
      ]
     },
     "execution_count": 16,
     "metadata": {
      "tags": []
     },
     "output_type": "execute_result"
    }
   ],
   "source": [
    "processed_review = sequence.pad_sequences(review_array, maxlen=max_review_length)\n",
    "processed_review"
   ]
  },
  {
   "cell_type": "code",
   "execution_count": 0,
   "metadata": {
    "colab": {},
    "colab_type": "code",
    "id": "0r661GHeDhUt",
    "outputId": "855e3de7-baf1-4cfc-d11b-83f3eaa12d1e"
   },
   "outputs": [
    {
     "data": {
      "text/plain": [
       "array([[0.94799393]], dtype=float32)"
      ]
     },
     "execution_count": 17,
     "metadata": {
      "tags": []
     },
     "output_type": "execute_result"
    }
   ],
   "source": [
    "model.predict_proba(processed_review)"
   ]
  },
  {
   "cell_type": "markdown",
   "metadata": {
    "colab_type": "text",
    "id": "KrEsEz4BDhVC"
   },
   "source": [
    "### Create a function"
   ]
  },
  {
   "cell_type": "code",
   "execution_count": 0,
   "metadata": {
    "colab": {},
    "colab_type": "code",
    "id": "nyoEo-nKDhVE"
   },
   "outputs": [],
   "source": [
    "def sentimentator(review):\n",
    "    raw_review_list = review.split()\n",
    "    # clean list\n",
    "    review_list = []\n",
    "    for x in raw_review_list:\n",
    "        if x in list(word_to_id.keys()):\n",
    "            review_list.append(x)\n",
    "\n",
    "    ids_from_words = [word_to_id[x] for x in review_list]\n",
    "\n",
    "    # clean ids_from_words\n",
    "    review_ids_from_words = []\n",
    "    for x in ids_from_words:\n",
    "        if np.sum(np.isin(X_train, x)) > 0:\n",
    "            review_ids_from_words.append(x)\n",
    "    \n",
    "    print(review_ids_from_words)\n",
    "    review_array = np.array(review_ids_from_words).reshape((1,len(review_ids_from_words)))\n",
    "    processed_review = sequence.pad_sequences(review_array, maxlen=max_review_length)\n",
    "    return model.predict_proba(processed_review)"
   ]
  },
  {
   "cell_type": "code",
   "execution_count": 0,
   "metadata": {
    "colab": {},
    "colab_type": "code",
    "id": "MlFAYff8DhVK"
   },
   "outputs": [],
   "source": [
    "#new_review = \"hate this movie it is not good and the acting is really bad\"\n",
    "new_review = \"That movie is fucking good\""
   ]
  },
  {
   "cell_type": "code",
   "execution_count": 0,
   "metadata": {
    "colab": {},
    "colab_type": "code",
    "id": "TjYapToiDhVP",
    "outputId": "7a698e5e-18b1-4ed4-9ab0-c53a338989e9"
   },
   "outputs": [
    {
     "name": "stdout",
     "output_type": "stream",
     "text": [
      "[17, 6, 49]\n"
     ]
    },
    {
     "data": {
      "text/plain": [
       "array([[0.6352975]], dtype=float32)"
      ]
     },
     "execution_count": 36,
     "metadata": {
      "tags": []
     },
     "output_type": "execute_result"
    }
   ],
   "source": [
    "sentimentator(new_review)"
   ]
  },
  {
   "cell_type": "code",
   "execution_count": 0,
   "metadata": {
    "colab": {},
    "colab_type": "code",
    "id": "X1O8Er8tDhVV",
    "outputId": "cd6da7e8-b422-44a1-e525-7a93530723c9"
   },
   "outputs": [
    {
     "name": "stdout",
     "output_type": "stream",
     "text": [
      "[10, 119, 21, 37, 11, 17, 113, 6, 75, 14]\n"
     ]
    },
    {
     "data": {
      "text/plain": [
       "array([[0.13691352]], dtype=float32)"
      ]
     },
     "execution_count": 37,
     "metadata": {
      "tags": []
     },
     "output_type": "execute_result"
    }
   ],
   "source": [
    "new_review2 = \"i did not like this shitty movie acting is bad as fuck\"\n",
    "sentimentator(new_review2)"
   ]
  },
  {
   "cell_type": "markdown",
   "metadata": {
    "colab_type": "text",
    "id": "t8fHebspDhVh"
   },
   "source": [
    "### Usando convoluções\n",
    "- imagine uma janela \"rolando\" por cima do texto, o que acontece com o modelo?\n",
    "- O numero de parametros aumenta ou diminui?\n",
    "- Quão bom ficou o modelo?\n",
    "- Qual foi o tempo de treinamento? Qual modelo é mais rápido de treinar?"
   ]
  },
  {
   "cell_type": "code",
   "execution_count": 0,
   "metadata": {
    "colab": {},
    "colab_type": "code",
    "id": "nepxTzZxDhVt"
   },
   "outputs": [],
   "source": [
    "## Importe:\n",
    "from keras.layers.convolutional import Conv1D\n",
    "from keras.layers.convolutional import MaxPooling1D"
   ]
  },
  {
   "cell_type": "code",
   "execution_count": 0,
   "metadata": {
    "colab": {},
    "colab_type": "code",
    "id": "vRgyGoQ5DhV6",
    "outputId": "f4d45f6f-af2a-478b-9b22-e0f26e7bf3c3"
   },
   "outputs": [
    {
     "name": "stdout",
     "output_type": "stream",
     "text": [
      "_________________________________________________________________\n",
      "Layer (type)                 Output Shape              Param #   \n",
      "=================================================================\n",
      "embedding_3 (Embedding)      (None, 250, 32)           160000    \n",
      "_________________________________________________________________\n",
      "conv1d_1 (Conv1D)            (None, 250, 32)           3104      \n",
      "_________________________________________________________________\n",
      "max_pooling1d_1 (MaxPooling1 (None, 125, 32)           0         \n",
      "_________________________________________________________________\n",
      "dropout_3 (Dropout)          (None, 125, 32)           0         \n",
      "_________________________________________________________________\n",
      "lstm_2 (LSTM)                (None, 100)               53200     \n",
      "_________________________________________________________________\n",
      "dropout_4 (Dropout)          (None, 100)               0         \n",
      "_________________________________________________________________\n",
      "dense_2 (Dense)              (None, 1)                 101       \n",
      "=================================================================\n",
      "Total params: 216,405\n",
      "Trainable params: 216,405\n",
      "Non-trainable params: 0\n",
      "_________________________________________________________________\n",
      "None\n",
      "Train on 25000 samples, validate on 25000 samples\n",
      "Epoch 1/3\n",
      "25000/25000 [==============================] - 75s 3ms/step - loss: 0.4689 - acc: 0.7544 - val_loss: 0.2927 - val_acc: 0.8771\n",
      "Epoch 2/3\n",
      "25000/25000 [==============================] - 79s 3ms/step - loss: 0.2592 - acc: 0.8972 - val_loss: 0.3303 - val_acc: 0.8718\n",
      "Epoch 3/3\n",
      "25000/25000 [==============================] - 77s 3ms/step - loss: 0.2153 - acc: 0.9170 - val_loss: 0.2868 - val_acc: 0.8798\n"
     ]
    },
    {
     "data": {
      "text/plain": [
       "<keras.callbacks.History at 0x1e5e3506390>"
      ]
     },
     "execution_count": 33,
     "metadata": {
      "tags": []
     },
     "output_type": "execute_result"
    }
   ],
   "source": [
    "# create the model\n",
    "embedding_vector_length = 32\n",
    "model = Sequential()\n",
    "model.add(Embedding(N_WORDS, embedding_vector_length, input_length=max_review_length))\n",
    "model.add(Conv1D(filters=32, kernel_size=3, padding='same', activation='relu'))\n",
    "model.add(MaxPooling1D(pool_size=2))\n",
    "model.add(Dropout(0.5))\n",
    "model.add(LSTM(100))\n",
    "model.add(Dropout(0.2))\n",
    "model.add(Dense(1, activation='sigmoid'))\n",
    "model.compile(loss='binary_crossentropy', optimizer='adam', metrics=['accuracy'])\n",
    "print(model.summary())\n",
    "model.fit(X_train, y_train, validation_data=(X_test, y_test), epochs=3, batch_size=64)"
   ]
  }
 ],
 "metadata": {
  "accelerator": "GPU",
  "colab": {
   "name": "imdb.ipynb",
   "provenance": [],
   "version": "0.3.2"
  },
  "kernelspec": {
   "display_name": "Python 3",
   "language": "python",
   "name": "python3"
  },
  "language_info": {
   "codemirror_mode": {
    "name": "ipython",
    "version": 3
   },
   "file_extension": ".py",
   "mimetype": "text/x-python",
   "name": "python",
   "nbconvert_exporter": "python",
   "pygments_lexer": "ipython3",
   "version": "3.6.3"
  }
 },
 "nbformat": 4,
 "nbformat_minor": 1
}
